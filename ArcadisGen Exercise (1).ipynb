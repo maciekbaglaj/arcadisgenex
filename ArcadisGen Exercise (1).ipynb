{
 "cells": [
  {
   "cell_type": "code",
   "execution_count": null,
   "metadata": {},
   "outputs": [],
   "source": [
    "JOB_ID – the unique identity of the work order.\n",
    " JOB_TYPE – the type of job performed.\n",
    " DEPTH_M – the depth of the pipe (m).\n",
    " DIAMETER_MM – the diameter of the pipe (mm).\n",
    " MATERIAL – the material of the pipe.\n",
    " LENGTH_M – the length of the pipe (m).\n",
    " JOB_COST – the cost of the job (£)."
   ]
  },
  {
   "cell_type": "code",
   "execution_count": 1,
   "metadata": {},
   "outputs": [],
   "source": [
    "import numpy as np\n",
    "import pandas as pd\n",
    "import matplotlib\n",
    "import matplotlib.pyplot as plt\n",
    "%matplotlib inline\n",
    "import os\n",
    "import seaborn as sns"
   ]
  },
  {
   "cell_type": "code",
   "execution_count": 2,
   "metadata": {},
   "outputs": [],
   "source": [
    "os.chdir(\"/Users/maciejmaciej/Desktop/arcarids gen\")"
   ]
  },
  {
   "cell_type": "code",
   "execution_count": 3,
   "metadata": {},
   "outputs": [
    {
     "name": "stdout",
     "output_type": "stream",
     "text": [
      "Current Working Directory  /Users/maciejmaciej/Desktop/arcarids gen\n"
     ]
    }
   ],
   "source": [
    "print(\"Current Working Directory \" , os.getcwd())"
   ]
  },
  {
   "cell_type": "code",
   "execution_count": 4,
   "metadata": {},
   "outputs": [
    {
     "name": "stdout",
     "output_type": "stream",
     "text": [
      "['.DS_Store', 'Example_Work_Orders.xlsx', 'ArcadisGen Exercise.ipynb', 'Example Work Orders.csv']\n"
     ]
    }
   ],
   "source": [
    "files = os.listdir(os.curdir)\n",
    "print(files)"
   ]
  },
  {
   "cell_type": "code",
   "execution_count": 5,
   "metadata": {},
   "outputs": [],
   "source": [
    "arca = pd.read_excel(\"Example_Work_Orders.xlsx\")"
   ]
  },
  {
   "cell_type": "code",
   "execution_count": 6,
   "metadata": {},
   "outputs": [
    {
     "data": {
      "text/html": [
       "<div>\n",
       "<style scoped>\n",
       "    .dataframe tbody tr th:only-of-type {\n",
       "        vertical-align: middle;\n",
       "    }\n",
       "\n",
       "    .dataframe tbody tr th {\n",
       "        vertical-align: top;\n",
       "    }\n",
       "\n",
       "    .dataframe thead th {\n",
       "        text-align: right;\n",
       "    }\n",
       "</style>\n",
       "<table border=\"1\" class=\"dataframe\">\n",
       "  <thead>\n",
       "    <tr style=\"text-align: right;\">\n",
       "      <th></th>\n",
       "      <th>JOB_ID</th>\n",
       "      <th>JOB_TYPE</th>\n",
       "      <th>DEPTH_M</th>\n",
       "      <th>DIAMETER_MM</th>\n",
       "      <th>MATERIAL</th>\n",
       "      <th>LENGTH_M</th>\n",
       "      <th>JOB_COST</th>\n",
       "    </tr>\n",
       "  </thead>\n",
       "  <tbody>\n",
       "    <tr>\n",
       "      <th>0</th>\n",
       "      <td>Job 1</td>\n",
       "      <td>Replace</td>\n",
       "      <td>2.19</td>\n",
       "      <td>200</td>\n",
       "      <td>ST</td>\n",
       "      <td>31.55</td>\n",
       "      <td>19847.644300</td>\n",
       "    </tr>\n",
       "    <tr>\n",
       "      <th>1</th>\n",
       "      <td>Job 2</td>\n",
       "      <td>Replace</td>\n",
       "      <td>2.27</td>\n",
       "      <td>63</td>\n",
       "      <td>AC</td>\n",
       "      <td>15.14</td>\n",
       "      <td>4476.588985</td>\n",
       "    </tr>\n",
       "    <tr>\n",
       "      <th>2</th>\n",
       "      <td>Job 3</td>\n",
       "      <td>Repair</td>\n",
       "      <td>3.64</td>\n",
       "      <td>450</td>\n",
       "      <td>ST</td>\n",
       "      <td>15.17</td>\n",
       "      <td>16871.484850</td>\n",
       "    </tr>\n",
       "    <tr>\n",
       "      <th>3</th>\n",
       "      <td>Job 4</td>\n",
       "      <td>Replace</td>\n",
       "      <td>2.28</td>\n",
       "      <td>200</td>\n",
       "      <td>AC</td>\n",
       "      <td>15.64</td>\n",
       "      <td>11158.144200</td>\n",
       "    </tr>\n",
       "    <tr>\n",
       "      <th>4</th>\n",
       "      <td>Job 5</td>\n",
       "      <td>Replace</td>\n",
       "      <td>2.40</td>\n",
       "      <td>200</td>\n",
       "      <td>ST</td>\n",
       "      <td>39.23</td>\n",
       "      <td>16913.611580</td>\n",
       "    </tr>\n",
       "  </tbody>\n",
       "</table>\n",
       "</div>"
      ],
      "text/plain": [
       "  JOB_ID JOB_TYPE  DEPTH_M  DIAMETER_MM MATERIAL  LENGTH_M      JOB_COST\n",
       "0  Job 1  Replace     2.19          200       ST     31.55  19847.644300\n",
       "1  Job 2  Replace     2.27           63       AC     15.14   4476.588985\n",
       "2  Job 3   Repair     3.64          450       ST     15.17  16871.484850\n",
       "3  Job 4  Replace     2.28          200       AC     15.64  11158.144200\n",
       "4  Job 5  Replace     2.40          200       ST     39.23  16913.611580"
      ]
     },
     "execution_count": 6,
     "metadata": {},
     "output_type": "execute_result"
    }
   ],
   "source": [
    "arca.head(5)"
   ]
  },
  {
   "cell_type": "markdown",
   "metadata": {},
   "source": [
    " JOB_ID – the unique identity of the work order. -  str\n",
    " JOB_TYPE – the type of job performed. - str (binary)\n",
    " DEPTH_M – the depth of the pipe (m). - float\n",
    " DIAMETER_MM – the diameter of the pipe (mm). - int\n",
    " MATERIAL – the material of the pipe. - str\n",
    " LENGTH_M – the length of the pipe (m). -float\n",
    " JOB_COST – the cost of the job (£). - float"
   ]
  },
  {
   "cell_type": "code",
   "execution_count": 7,
   "metadata": {},
   "outputs": [
    {
     "data": {
      "text/html": [
       "<div>\n",
       "<style scoped>\n",
       "    .dataframe tbody tr th:only-of-type {\n",
       "        vertical-align: middle;\n",
       "    }\n",
       "\n",
       "    .dataframe tbody tr th {\n",
       "        vertical-align: top;\n",
       "    }\n",
       "\n",
       "    .dataframe thead th {\n",
       "        text-align: right;\n",
       "    }\n",
       "</style>\n",
       "<table border=\"1\" class=\"dataframe\">\n",
       "  <thead>\n",
       "    <tr style=\"text-align: right;\">\n",
       "      <th></th>\n",
       "      <th>DEPTH_M</th>\n",
       "      <th>DIAMETER_MM</th>\n",
       "      <th>LENGTH_M</th>\n",
       "      <th>JOB_COST</th>\n",
       "    </tr>\n",
       "  </thead>\n",
       "  <tbody>\n",
       "    <tr>\n",
       "      <th>count</th>\n",
       "      <td>5000.000000</td>\n",
       "      <td>5000.000000</td>\n",
       "      <td>5000.000000</td>\n",
       "      <td>4994.000000</td>\n",
       "    </tr>\n",
       "    <tr>\n",
       "      <th>mean</th>\n",
       "      <td>2.670232</td>\n",
       "      <td>733.001000</td>\n",
       "      <td>25.137914</td>\n",
       "      <td>10207.698215</td>\n",
       "    </tr>\n",
       "    <tr>\n",
       "      <th>std</th>\n",
       "      <td>0.853085</td>\n",
       "      <td>24486.875116</td>\n",
       "      <td>9.097207</td>\n",
       "      <td>9534.848466</td>\n",
       "    </tr>\n",
       "    <tr>\n",
       "      <th>min</th>\n",
       "      <td>-4.660000</td>\n",
       "      <td>50.000000</td>\n",
       "      <td>8.160000</td>\n",
       "      <td>586.506169</td>\n",
       "    </tr>\n",
       "    <tr>\n",
       "      <th>25%</th>\n",
       "      <td>2.000000</td>\n",
       "      <td>63.000000</td>\n",
       "      <td>17.810000</td>\n",
       "      <td>3978.863093</td>\n",
       "    </tr>\n",
       "    <tr>\n",
       "      <th>50%</th>\n",
       "      <td>2.570000</td>\n",
       "      <td>90.000000</td>\n",
       "      <td>23.785000</td>\n",
       "      <td>6986.901196</td>\n",
       "    </tr>\n",
       "    <tr>\n",
       "      <th>75%</th>\n",
       "      <td>3.270000</td>\n",
       "      <td>200.000000</td>\n",
       "      <td>31.665000</td>\n",
       "      <td>12884.617365</td>\n",
       "    </tr>\n",
       "    <tr>\n",
       "      <th>max</th>\n",
       "      <td>4.980000</td>\n",
       "      <td>999999.000000</td>\n",
       "      <td>49.710000</td>\n",
       "      <td>85860.133000</td>\n",
       "    </tr>\n",
       "  </tbody>\n",
       "</table>\n",
       "</div>"
      ],
      "text/plain": [
       "           DEPTH_M    DIAMETER_MM     LENGTH_M      JOB_COST\n",
       "count  5000.000000    5000.000000  5000.000000   4994.000000\n",
       "mean      2.670232     733.001000    25.137914  10207.698215\n",
       "std       0.853085   24486.875116     9.097207   9534.848466\n",
       "min      -4.660000      50.000000     8.160000    586.506169\n",
       "25%       2.000000      63.000000    17.810000   3978.863093\n",
       "50%       2.570000      90.000000    23.785000   6986.901196\n",
       "75%       3.270000     200.000000    31.665000  12884.617365\n",
       "max       4.980000  999999.000000    49.710000  85860.133000"
      ]
     },
     "execution_count": 7,
     "metadata": {},
     "output_type": "execute_result"
    }
   ],
   "source": [
    "arca.describe()"
   ]
  },
  {
   "cell_type": "code",
   "execution_count": 8,
   "metadata": {},
   "outputs": [
    {
     "data": {
      "text/plain": [
       "(5000, 7)"
      ]
     },
     "execution_count": 8,
     "metadata": {},
     "output_type": "execute_result"
    }
   ],
   "source": [
    "arca.shape"
   ]
  },
  {
   "cell_type": "code",
   "execution_count": 10,
   "metadata": {},
   "outputs": [
    {
     "data": {
      "text/plain": [
       "count     4994.000000\n",
       "mean     10207.698215\n",
       "std       9534.848466\n",
       "min        586.506169\n",
       "25%       3978.863093\n",
       "50%       6986.901196\n",
       "75%      12884.617365\n",
       "max      85860.133000\n",
       "Name: JOB_COST, dtype: float64"
      ]
     },
     "execution_count": 10,
     "metadata": {},
     "output_type": "execute_result"
    }
   ],
   "source": [
    "arca.JOB_COST.describe()"
   ]
  },
  {
   "cell_type": "code",
   "execution_count": 11,
   "metadata": {},
   "outputs": [
    {
     "data": {
      "text/plain": [
       "JOB_ID         False\n",
       "JOB_TYPE       False\n",
       "DEPTH_M        False\n",
       "DIAMETER_MM    False\n",
       "MATERIAL       False\n",
       "LENGTH_M       False\n",
       "JOB_COST        True\n",
       "dtype: bool"
      ]
     },
     "execution_count": 11,
     "metadata": {},
     "output_type": "execute_result"
    }
   ],
   "source": [
    "arca.isnull().any()"
   ]
  },
  {
   "cell_type": "code",
   "execution_count": 31,
   "metadata": {},
   "outputs": [
    {
     "data": {
      "text/plain": [
       "JOB_ID         0\n",
       "JOB_TYPE       0\n",
       "DEPTH_M        0\n",
       "DIAMETER_MM    0\n",
       "MATERIAL       0\n",
       "LENGTH_M       0\n",
       "JOB_COST       6\n",
       "dtype: int64"
      ]
     },
     "execution_count": 31,
     "metadata": {},
     "output_type": "execute_result"
    }
   ],
   "source": [
    "arca.isnull().sum()"
   ]
  },
  {
   "cell_type": "code",
   "execution_count": 30,
   "metadata": {},
   "outputs": [
    {
     "name": "stdout",
     "output_type": "stream",
     "text": [
      "        JOB_ID JOB_TYPE  DEPTH_M  DIAMETER_MM MATERIAL  LENGTH_M  JOB_COST\n",
      "67      Job 68  Replace     1.47           90       AC     44.04       NaN\n",
      "102    Job 103  Replace     2.86          125       ST     20.97       NaN\n",
      "405    Job 406  Replace     1.62           90       CI     29.81       NaN\n",
      "1233  Job 1234   Repair     1.93          250       AC     20.57       NaN\n",
      "3240  Job 3241  Replace     3.15           90       AC     41.94       NaN\n",
      "4557  Job 4558  Replace     2.13           50       ST     19.21       NaN\n"
     ]
    }
   ],
   "source": [
    "#here we display all the rows where JOB_COST has no values\n",
    "arcan = arca[arca.isnull().any(axis=1)]\n",
    "print(arcan)"
   ]
  },
  {
   "cell_type": "code",
   "execution_count": 32,
   "metadata": {},
   "outputs": [],
   "source": [
    "#dropping empty values - very difficult to estimate the cost of those JOB_COSTs (at least now at the entry level), addition. 6 incidents is not a siginificant no. to influence the analysis\n",
    "#dropping all rows where NanN can be identified\n",
    "arcan = arca.dropna()"
   ]
  },
  {
   "cell_type": "code",
   "execution_count": 36,
   "metadata": {},
   "outputs": [
    {
     "data": {
      "text/plain": [
       "(4994, 7)"
      ]
     },
     "execution_count": 36,
     "metadata": {},
     "output_type": "execute_result"
    }
   ],
   "source": [
    "# we can see the new dataframe has dropped all empty values, therefore rows, so the new df consists of 4994 rows and 7 columns\n",
    "arcan.shape"
   ]
  },
  {
   "cell_type": "code",
   "execution_count": 34,
   "metadata": {},
   "outputs": [
    {
     "name": "stdout",
     "output_type": "stream",
     "text": [
      "['ST' 'AC' 'CI']\n",
      "AC    2557\n",
      "CI    1431\n",
      "ST    1006\n",
      "Name: MATERIAL, dtype: int64\n"
     ]
    }
   ],
   "source": [
    "# there are only 3 types of materials and there are 2557 of AC, 1431 of CI and 1006 of ST\n",
    "print(arcan.MATERIAL.unique())\n",
    "print(arcan.MATERIAL.value_counts())"
   ]
  },
  {
   "cell_type": "code",
   "execution_count": 37,
   "metadata": {},
   "outputs": [
    {
     "data": {
      "text/plain": [
       "Replace    3504\n",
       "Repair     1490\n",
       "Name: JOB_TYPE, dtype: int64"
      ]
     },
     "execution_count": 37,
     "metadata": {},
     "output_type": "execute_result"
    }
   ],
   "source": [
    "arcan.JOB_TYPE.value_counts()"
   ]
  },
  {
   "cell_type": "code",
   "execution_count": 38,
   "metadata": {},
   "outputs": [],
   "source": [
    "# selecting numerical data\n",
    "\n",
    "numeric_data = arcan.select_dtypes(include=[np.number])"
   ]
  },
  {
   "cell_type": "code",
   "execution_count": 39,
   "metadata": {},
   "outputs": [
    {
     "data": {
      "text/plain": [
       "Index(['DEPTH_M', 'DIAMETER_MM', 'LENGTH_M', 'JOB_COST'], dtype='object')"
      ]
     },
     "execution_count": 39,
     "metadata": {},
     "output_type": "execute_result"
    }
   ],
   "source": [
    "numeric_data.keys()"
   ]
  },
  {
   "cell_type": "code",
   "execution_count": 40,
   "metadata": {},
   "outputs": [
    {
     "name": "stdout",
     "output_type": "stream",
     "text": [
      "AxesSubplot(0.125,0.125;0.62x0.755)\n"
     ]
    },
    {
     "data": {
      "image/png": "[encoded data removed]",
      "text/plain": [
       "<Figure size 432x288 with 2 Axes>"
      ]
     },
     "metadata": {
      "needs_background": "light"
     },
     "output_type": "display_data"
    }
   ],
   "source": [
    "cor = numeric_data.corr()\n",
    "print(sns.heatmap(cor,annot=True))"
   ]
  },
  {
   "cell_type": "code",
   "execution_count": 41,
   "metadata": {},
   "outputs": [
    {
     "name": "stdout",
     "output_type": "stream",
     "text": [
      "[[<AxesSubplot:title={'center':'DEPTH_M'}>\n",
      "  <AxesSubplot:title={'center':'DIAMETER_MM'}>]\n",
      " [<AxesSubplot:title={'center':'JOB_COST'}>\n",
      "  <AxesSubplot:title={'center':'LENGTH_M'}>]]\n"
     ]
    },
    {
     "data": {
      "image/png": "[encoded data removed]",
      "text/plain": [
       "<Figure size 432x288 with 4 Axes>"
      ]
     },
     "metadata": {
      "needs_background": "light"
     },
     "output_type": "display_data"
    }
   ],
   "source": [
    "print(arcan.hist())\n"
   ]
  },
  {
   "cell_type": "code",
   "execution_count": 92,
   "metadata": {},
   "outputs": [
    {
     "name": "stdout",
     "output_type": "stream",
     "text": [
      "AxesSubplot(0.125,0.125;0.775x0.755)\n"
     ]
    },
    {
     "data": {
      "image/png": "[encoded data removed]",
      "text/plain": [
       "<Figure size 432x288 with 1 Axes>"
      ]
     },
     "metadata": {
      "needs_background": "light"
     },
     "output_type": "display_data"
    }
   ],
   "source": [
    "print(arcan.JOB_COST.plot(kind='box'))"
   ]
  },
  {
   "cell_type": "code",
   "execution_count": 42,
   "metadata": {},
   "outputs": [
    {
     "data": {
      "text/plain": [
       "Text(0.5, 1.0, 'Job Cost Distribution')"
      ]
     },
     "execution_count": 42,
     "metadata": {},
     "output_type": "execute_result"
    },
    {
     "data": {
      "image/png": "[encoded data removed]",
      "text/plain": [
       "<Figure size 432x288 with 1 Axes>"
      ]
     },
     "metadata": {
      "needs_background": "light"
     },
     "output_type": "display_data"
    }
   ],
   "source": [
    "sns.distplot(arcan['JOB_COST']).set_title('Job Cost Distribution')"
   ]
  },
  {
   "cell_type": "code",
   "execution_count": 121,
   "metadata": {},
   "outputs": [
    {
     "data": {
      "image/png": "[encoded data removed]",
      "text/plain": [
       "<Figure size 1440x1080 with 4 Axes>"
      ]
     },
     "metadata": {
      "needs_background": "light"
     },
     "output_type": "display_data"
    }
   ],
   "source": [
    "arcan.hist(bins=20, figsize=(20,15))\n",
    "plt.show()"
   ]
  },
  {
   "cell_type": "code",
   "execution_count": 43,
   "metadata": {},
   "outputs": [
    {
     "name": "stdout",
     "output_type": "stream",
     "text": [
      "2.253321267756955\n"
     ]
    }
   ],
   "source": [
    "#checking if the JOB_COST function is normally distributed\n",
    "\n",
    "import scipy.stats as stats\n",
    "print(stats.skew(arcan.JOB_COST))"
   ]
  },
  {
   "cell_type": "code",
   "execution_count": 98,
   "metadata": {},
   "outputs": [
    {
     "name": "stdout",
     "output_type": "stream",
     "text": [
      "Shapiro-Wilk: W:0.7743324041366577 p=0.0\n"
     ]
    }
   ],
   "source": [
    "W,p = stats.shapiro(arcan.JOB_COST)\n",
    "print(\"Shapiro-Wilk: W:{0} p={1}\".format(W,p))"
   ]
  },
  {
   "cell_type": "code",
   "execution_count": null,
   "metadata": {},
   "outputs": [],
   "source": []
  },
  {
   "cell_type": "code",
   "execution_count": null,
   "metadata": {},
   "outputs": [],
   "source": []
  },
  {
   "cell_type": "code",
   "execution_count": null,
   "metadata": {},
   "outputs": [],
   "source": []
  },
  {
   "cell_type": "code",
   "execution_count": null,
   "metadata": {},
   "outputs": [],
   "source": []
  },
  {
   "cell_type": "code",
   "execution_count": null,
   "metadata": {},
   "outputs": [],
   "source": []
  },
  {
   "cell_type": "code",
   "execution_count": null,
   "metadata": {},
   "outputs": [],
   "source": []
  },
  {
   "cell_type": "markdown",
   "metadata": {},
   "source": [
    "# Splitting the dataset"
   ]
  },
  {
   "cell_type": "code",
   "execution_count": 169,
   "metadata": {},
   "outputs": [
    {
     "name": "stdout",
     "output_type": "stream",
     "text": [
      "(4994, 6)\n",
      "(4994,)\n"
     ]
    }
   ],
   "source": [
    "X = arca[['JOB_ID', 'JOB_TYPE', 'DEPTH_M', 'DIAMETER_MM', 'MATERIAL', 'LENGTH_M']]\n",
    "y=arca['JOB_COST']\n",
    "print(X.shape)\n",
    "print(y.shape)"
   ]
  },
  {
   "cell_type": "code",
   "execution_count": 170,
   "metadata": {},
   "outputs": [],
   "source": [
    "from sklearn.model_selection import train_test_split\n",
    "\n",
    "X_train,X_test,y_train,y_test = train_test_split(X,y, test_size=0.2,random_state=42)"
   ]
  },
  {
   "cell_type": "code",
   "execution_count": null,
   "metadata": {},
   "outputs": [],
   "source": [
    "X_train"
   ]
  },
  {
   "cell_type": "code",
   "execution_count": 139,
   "metadata": {},
   "outputs": [
    {
     "data": {
      "text/html": [
       "<div>\n",
       "<style scoped>\n",
       "    .dataframe tbody tr th:only-of-type {\n",
       "        vertical-align: middle;\n",
       "    }\n",
       "\n",
       "    .dataframe tbody tr th {\n",
       "        vertical-align: top;\n",
       "    }\n",
       "\n",
       "    .dataframe thead th {\n",
       "        text-align: right;\n",
       "    }\n",
       "</style>\n",
       "<table border=\"1\" class=\"dataframe\">\n",
       "  <thead>\n",
       "    <tr style=\"text-align: right;\">\n",
       "      <th></th>\n",
       "      <th>AC</th>\n",
       "      <th>CI</th>\n",
       "      <th>ST</th>\n",
       "    </tr>\n",
       "  </thead>\n",
       "  <tbody>\n",
       "    <tr>\n",
       "      <th>2667</th>\n",
       "      <td>1</td>\n",
       "      <td>0</td>\n",
       "      <td>0</td>\n",
       "    </tr>\n",
       "    <tr>\n",
       "      <th>1597</th>\n",
       "      <td>0</td>\n",
       "      <td>1</td>\n",
       "      <td>0</td>\n",
       "    </tr>\n",
       "    <tr>\n",
       "      <th>3757</th>\n",
       "      <td>1</td>\n",
       "      <td>0</td>\n",
       "      <td>0</td>\n",
       "    </tr>\n",
       "    <tr>\n",
       "      <th>100</th>\n",
       "      <td>1</td>\n",
       "      <td>0</td>\n",
       "      <td>0</td>\n",
       "    </tr>\n",
       "    <tr>\n",
       "      <th>2487</th>\n",
       "      <td>1</td>\n",
       "      <td>0</td>\n",
       "      <td>0</td>\n",
       "    </tr>\n",
       "    <tr>\n",
       "      <th>...</th>\n",
       "      <td>...</td>\n",
       "      <td>...</td>\n",
       "      <td>...</td>\n",
       "    </tr>\n",
       "    <tr>\n",
       "      <th>4431</th>\n",
       "      <td>0</td>\n",
       "      <td>1</td>\n",
       "      <td>0</td>\n",
       "    </tr>\n",
       "    <tr>\n",
       "      <th>469</th>\n",
       "      <td>1</td>\n",
       "      <td>0</td>\n",
       "      <td>0</td>\n",
       "    </tr>\n",
       "    <tr>\n",
       "      <th>3096</th>\n",
       "      <td>0</td>\n",
       "      <td>0</td>\n",
       "      <td>1</td>\n",
       "    </tr>\n",
       "    <tr>\n",
       "      <th>3777</th>\n",
       "      <td>1</td>\n",
       "      <td>0</td>\n",
       "      <td>0</td>\n",
       "    </tr>\n",
       "    <tr>\n",
       "      <th>863</th>\n",
       "      <td>0</td>\n",
       "      <td>0</td>\n",
       "      <td>1</td>\n",
       "    </tr>\n",
       "  </tbody>\n",
       "</table>\n",
       "<p>3995 rows × 3 columns</p>\n",
       "</div>"
      ],
      "text/plain": [
       "      AC  CI  ST\n",
       "2667   1   0   0\n",
       "1597   0   1   0\n",
       "3757   1   0   0\n",
       "100    1   0   0\n",
       "2487   1   0   0\n",
       "...   ..  ..  ..\n",
       "4431   0   1   0\n",
       "469    1   0   0\n",
       "3096   0   0   1\n",
       "3777   1   0   0\n",
       "863    0   0   1\n",
       "\n",
       "[3995 rows x 3 columns]"
      ]
     },
     "execution_count": 139,
     "metadata": {},
     "output_type": "execute_result"
    }
   ],
   "source": [
    "#dummies = pd.get_dummies(train_set['MATERIAL'])\n",
    "#dummies\n",
    "arcan1 = arc.concat([df,pd.get_dummies])"
   ]
  },
  {
   "cell_type": "code",
   "execution_count": 44,
   "metadata": {},
   "outputs": [
    {
     "data": {
      "text/plain": [
       "array([2, 0, 2, ..., 0, 1, 0])"
      ]
     },
     "execution_count": 44,
     "metadata": {},
     "output_type": "execute_result"
    }
   ],
   "source": [
    "#converting text labels into numbers\n",
    "from sklearn.preprocessing import LabelEncoder\n",
    "encoder = LabelEncoder()\n",
    "mat_cat = arcan['MATERIAL']\n",
    "mat_cat_encoded = encoder.fit_transform(mat_cat)\n",
    "mat_cat_encoded"
   ]
  },
  {
   "cell_type": "code",
   "execution_count": 45,
   "metadata": {},
   "outputs": [
    {
     "name": "stdout",
     "output_type": "stream",
     "text": [
      "['AC' 'CI' 'ST']\n"
     ]
    }
   ],
   "source": [
    "print(encoder.classes_)"
   ]
  },
  {
   "cell_type": "code",
   "execution_count": 46,
   "metadata": {},
   "outputs": [
    {
     "data": {
      "text/plain": [
       "<4994x3 sparse matrix of type '<class 'numpy.float64'>'\n",
       "\twith 4994 stored elements in Compressed Sparse Row format>"
      ]
     },
     "execution_count": 46,
     "metadata": {},
     "output_type": "execute_result"
    }
   ],
   "source": [
    "#converting the numerical representation of categorical attributes to only one binary attribute per category - this is to avoid confusing the algorithm\n",
    "from sklearn.preprocessing import OneHotEncoder\n",
    "encoder = OneHotEncoder()\n",
    "mat_cat_1hot = encoder.fit_transform(mat_cat_encoded.reshape(-1,1))\n",
    "mat_cat_1hot"
   ]
  },
  {
   "cell_type": "code",
   "execution_count": 47,
   "metadata": {},
   "outputs": [
    {
     "data": {
      "text/plain": [
       "array([[0., 0., 1.],\n",
       "       [1., 0., 0.],\n",
       "       [0., 0., 1.],\n",
       "       ...,\n",
       "       [1., 0., 0.],\n",
       "       [0., 1., 0.],\n",
       "       [1., 0., 0.]])"
      ]
     },
     "execution_count": 47,
     "metadata": {},
     "output_type": "execute_result"
    }
   ],
   "source": [
    "mat_cat_1hot.toarray()"
   ]
  },
  {
   "cell_type": "code",
   "execution_count": 48,
   "metadata": {},
   "outputs": [
    {
     "data": {
      "text/plain": [
       "array([[0, 0, 1],\n",
       "       [1, 0, 0],\n",
       "       [0, 0, 1],\n",
       "       ...,\n",
       "       [1, 0, 0],\n",
       "       [0, 1, 0],\n",
       "       [1, 0, 0]])"
      ]
     },
     "execution_count": 48,
     "metadata": {},
     "output_type": "execute_result"
    }
   ],
   "source": [
    "from sklearn.preprocessing import LabelBinarizer\n",
    "encoder = LabelBinarizer()\n",
    "mat_cat_1hot = encoder.fit_transform(mat_cat)\n",
    "mat_cat_1hot"
   ]
  },
  {
   "cell_type": "code",
   "execution_count": 158,
   "metadata": {},
   "outputs": [],
   "source": [
    "oneone = pd.DataFrame(mat_cat_1hot)"
   ]
  },
  {
   "cell_type": "code",
   "execution_count": 49,
   "metadata": {},
   "outputs": [
    {
     "data": {
      "text/html": [
       "<div>\n",
       "<style scoped>\n",
       "    .dataframe tbody tr th:only-of-type {\n",
       "        vertical-align: middle;\n",
       "    }\n",
       "\n",
       "    .dataframe tbody tr th {\n",
       "        vertical-align: top;\n",
       "    }\n",
       "\n",
       "    .dataframe thead th {\n",
       "        text-align: right;\n",
       "    }\n",
       "</style>\n",
       "<table border=\"1\" class=\"dataframe\">\n",
       "  <thead>\n",
       "    <tr style=\"text-align: right;\">\n",
       "      <th></th>\n",
       "      <th>JOB_ID</th>\n",
       "      <th>JOB_TYPE</th>\n",
       "      <th>DEPTH_M</th>\n",
       "      <th>DIAMETER_MM</th>\n",
       "      <th>MATERIAL</th>\n",
       "      <th>LENGTH_M</th>\n",
       "      <th>JOB_COST</th>\n",
       "    </tr>\n",
       "  </thead>\n",
       "  <tbody>\n",
       "    <tr>\n",
       "      <th>0</th>\n",
       "      <td>Job 1</td>\n",
       "      <td>Replace</td>\n",
       "      <td>2.19</td>\n",
       "      <td>200</td>\n",
       "      <td>ST</td>\n",
       "      <td>31.55</td>\n",
       "      <td>19847.644300</td>\n",
       "    </tr>\n",
       "    <tr>\n",
       "      <th>1</th>\n",
       "      <td>Job 2</td>\n",
       "      <td>Replace</td>\n",
       "      <td>2.27</td>\n",
       "      <td>63</td>\n",
       "      <td>AC</td>\n",
       "      <td>15.14</td>\n",
       "      <td>4476.588985</td>\n",
       "    </tr>\n",
       "    <tr>\n",
       "      <th>2</th>\n",
       "      <td>Job 3</td>\n",
       "      <td>Repair</td>\n",
       "      <td>3.64</td>\n",
       "      <td>450</td>\n",
       "      <td>ST</td>\n",
       "      <td>15.17</td>\n",
       "      <td>16871.484850</td>\n",
       "    </tr>\n",
       "    <tr>\n",
       "      <th>3</th>\n",
       "      <td>Job 4</td>\n",
       "      <td>Replace</td>\n",
       "      <td>2.28</td>\n",
       "      <td>200</td>\n",
       "      <td>AC</td>\n",
       "      <td>15.64</td>\n",
       "      <td>11158.144200</td>\n",
       "    </tr>\n",
       "    <tr>\n",
       "      <th>4</th>\n",
       "      <td>Job 5</td>\n",
       "      <td>Replace</td>\n",
       "      <td>2.40</td>\n",
       "      <td>200</td>\n",
       "      <td>ST</td>\n",
       "      <td>39.23</td>\n",
       "      <td>16913.611580</td>\n",
       "    </tr>\n",
       "    <tr>\n",
       "      <th>...</th>\n",
       "      <td>...</td>\n",
       "      <td>...</td>\n",
       "      <td>...</td>\n",
       "      <td>...</td>\n",
       "      <td>...</td>\n",
       "      <td>...</td>\n",
       "      <td>...</td>\n",
       "    </tr>\n",
       "    <tr>\n",
       "      <th>4995</th>\n",
       "      <td>Job 4996</td>\n",
       "      <td>Replace</td>\n",
       "      <td>2.06</td>\n",
       "      <td>125</td>\n",
       "      <td>AC</td>\n",
       "      <td>23.34</td>\n",
       "      <td>9846.054169</td>\n",
       "    </tr>\n",
       "    <tr>\n",
       "      <th>4996</th>\n",
       "      <td>Job 4997</td>\n",
       "      <td>Replace</td>\n",
       "      <td>2.17</td>\n",
       "      <td>250</td>\n",
       "      <td>AC</td>\n",
       "      <td>28.22</td>\n",
       "      <td>16475.714440</td>\n",
       "    </tr>\n",
       "    <tr>\n",
       "      <th>4997</th>\n",
       "      <td>Job 4998</td>\n",
       "      <td>Repair</td>\n",
       "      <td>3.01</td>\n",
       "      <td>50</td>\n",
       "      <td>AC</td>\n",
       "      <td>18.39</td>\n",
       "      <td>1617.823411</td>\n",
       "    </tr>\n",
       "    <tr>\n",
       "      <th>4998</th>\n",
       "      <td>Job 4999</td>\n",
       "      <td>Replace</td>\n",
       "      <td>2.75</td>\n",
       "      <td>50</td>\n",
       "      <td>CI</td>\n",
       "      <td>34.72</td>\n",
       "      <td>5313.796675</td>\n",
       "    </tr>\n",
       "    <tr>\n",
       "      <th>4999</th>\n",
       "      <td>Job 5000</td>\n",
       "      <td>Replace</td>\n",
       "      <td>4.31</td>\n",
       "      <td>90</td>\n",
       "      <td>AC</td>\n",
       "      <td>30.03</td>\n",
       "      <td>15870.566110</td>\n",
       "    </tr>\n",
       "  </tbody>\n",
       "</table>\n",
       "<p>4994 rows × 7 columns</p>\n",
       "</div>"
      ],
      "text/plain": [
       "        JOB_ID JOB_TYPE  DEPTH_M  DIAMETER_MM MATERIAL  LENGTH_M      JOB_COST\n",
       "0        Job 1  Replace     2.19          200       ST     31.55  19847.644300\n",
       "1        Job 2  Replace     2.27           63       AC     15.14   4476.588985\n",
       "2        Job 3   Repair     3.64          450       ST     15.17  16871.484850\n",
       "3        Job 4  Replace     2.28          200       AC     15.64  11158.144200\n",
       "4        Job 5  Replace     2.40          200       ST     39.23  16913.611580\n",
       "...        ...      ...      ...          ...      ...       ...           ...\n",
       "4995  Job 4996  Replace     2.06          125       AC     23.34   9846.054169\n",
       "4996  Job 4997  Replace     2.17          250       AC     28.22  16475.714440\n",
       "4997  Job 4998   Repair     3.01           50       AC     18.39   1617.823411\n",
       "4998  Job 4999  Replace     2.75           50       CI     34.72   5313.796675\n",
       "4999  Job 5000  Replace     4.31           90       AC     30.03  15870.566110\n",
       "\n",
       "[4994 rows x 7 columns]"
      ]
     },
     "execution_count": 49,
     "metadata": {},
     "output_type": "execute_result"
    }
   ],
   "source": [
    "arcan1 = arcan.copy()\n",
    "arcan1"
   ]
  },
  {
   "cell_type": "code",
   "execution_count": 50,
   "metadata": {},
   "outputs": [],
   "source": [
    "arcan2 = arcan.copy()"
   ]
  },
  {
   "cell_type": "code",
   "execution_count": 51,
   "metadata": {},
   "outputs": [],
   "source": [
    "arcan2 = pd.concat([arcan2,pd.get_dummies(arcan2['MATERIAL'],prefix='material')],axis=1)\n",
    "arcan2.drop(['MATERIAL'],axis=1,inplace=True)"
   ]
  },
  {
   "cell_type": "code",
   "execution_count": 52,
   "metadata": {},
   "outputs": [
    {
     "data": {
      "text/html": [
       "<div>\n",
       "<style scoped>\n",
       "    .dataframe tbody tr th:only-of-type {\n",
       "        vertical-align: middle;\n",
       "    }\n",
       "\n",
       "    .dataframe tbody tr th {\n",
       "        vertical-align: top;\n",
       "    }\n",
       "\n",
       "    .dataframe thead th {\n",
       "        text-align: right;\n",
       "    }\n",
       "</style>\n",
       "<table border=\"1\" class=\"dataframe\">\n",
       "  <thead>\n",
       "    <tr style=\"text-align: right;\">\n",
       "      <th></th>\n",
       "      <th>JOB_ID</th>\n",
       "      <th>JOB_TYPE</th>\n",
       "      <th>DEPTH_M</th>\n",
       "      <th>DIAMETER_MM</th>\n",
       "      <th>LENGTH_M</th>\n",
       "      <th>JOB_COST</th>\n",
       "      <th>material_AC</th>\n",
       "      <th>material_CI</th>\n",
       "      <th>material_ST</th>\n",
       "    </tr>\n",
       "  </thead>\n",
       "  <tbody>\n",
       "    <tr>\n",
       "      <th>0</th>\n",
       "      <td>Job 1</td>\n",
       "      <td>Replace</td>\n",
       "      <td>2.19</td>\n",
       "      <td>200</td>\n",
       "      <td>31.55</td>\n",
       "      <td>19847.644300</td>\n",
       "      <td>0</td>\n",
       "      <td>0</td>\n",
       "      <td>1</td>\n",
       "    </tr>\n",
       "    <tr>\n",
       "      <th>1</th>\n",
       "      <td>Job 2</td>\n",
       "      <td>Replace</td>\n",
       "      <td>2.27</td>\n",
       "      <td>63</td>\n",
       "      <td>15.14</td>\n",
       "      <td>4476.588985</td>\n",
       "      <td>1</td>\n",
       "      <td>0</td>\n",
       "      <td>0</td>\n",
       "    </tr>\n",
       "    <tr>\n",
       "      <th>2</th>\n",
       "      <td>Job 3</td>\n",
       "      <td>Repair</td>\n",
       "      <td>3.64</td>\n",
       "      <td>450</td>\n",
       "      <td>15.17</td>\n",
       "      <td>16871.484850</td>\n",
       "      <td>0</td>\n",
       "      <td>0</td>\n",
       "      <td>1</td>\n",
       "    </tr>\n",
       "    <tr>\n",
       "      <th>3</th>\n",
       "      <td>Job 4</td>\n",
       "      <td>Replace</td>\n",
       "      <td>2.28</td>\n",
       "      <td>200</td>\n",
       "      <td>15.64</td>\n",
       "      <td>11158.144200</td>\n",
       "      <td>1</td>\n",
       "      <td>0</td>\n",
       "      <td>0</td>\n",
       "    </tr>\n",
       "    <tr>\n",
       "      <th>4</th>\n",
       "      <td>Job 5</td>\n",
       "      <td>Replace</td>\n",
       "      <td>2.40</td>\n",
       "      <td>200</td>\n",
       "      <td>39.23</td>\n",
       "      <td>16913.611580</td>\n",
       "      <td>0</td>\n",
       "      <td>0</td>\n",
       "      <td>1</td>\n",
       "    </tr>\n",
       "    <tr>\n",
       "      <th>...</th>\n",
       "      <td>...</td>\n",
       "      <td>...</td>\n",
       "      <td>...</td>\n",
       "      <td>...</td>\n",
       "      <td>...</td>\n",
       "      <td>...</td>\n",
       "      <td>...</td>\n",
       "      <td>...</td>\n",
       "      <td>...</td>\n",
       "    </tr>\n",
       "    <tr>\n",
       "      <th>4995</th>\n",
       "      <td>Job 4996</td>\n",
       "      <td>Replace</td>\n",
       "      <td>2.06</td>\n",
       "      <td>125</td>\n",
       "      <td>23.34</td>\n",
       "      <td>9846.054169</td>\n",
       "      <td>1</td>\n",
       "      <td>0</td>\n",
       "      <td>0</td>\n",
       "    </tr>\n",
       "    <tr>\n",
       "      <th>4996</th>\n",
       "      <td>Job 4997</td>\n",
       "      <td>Replace</td>\n",
       "      <td>2.17</td>\n",
       "      <td>250</td>\n",
       "      <td>28.22</td>\n",
       "      <td>16475.714440</td>\n",
       "      <td>1</td>\n",
       "      <td>0</td>\n",
       "      <td>0</td>\n",
       "    </tr>\n",
       "    <tr>\n",
       "      <th>4997</th>\n",
       "      <td>Job 4998</td>\n",
       "      <td>Repair</td>\n",
       "      <td>3.01</td>\n",
       "      <td>50</td>\n",
       "      <td>18.39</td>\n",
       "      <td>1617.823411</td>\n",
       "      <td>1</td>\n",
       "      <td>0</td>\n",
       "      <td>0</td>\n",
       "    </tr>\n",
       "    <tr>\n",
       "      <th>4998</th>\n",
       "      <td>Job 4999</td>\n",
       "      <td>Replace</td>\n",
       "      <td>2.75</td>\n",
       "      <td>50</td>\n",
       "      <td>34.72</td>\n",
       "      <td>5313.796675</td>\n",
       "      <td>0</td>\n",
       "      <td>1</td>\n",
       "      <td>0</td>\n",
       "    </tr>\n",
       "    <tr>\n",
       "      <th>4999</th>\n",
       "      <td>Job 5000</td>\n",
       "      <td>Replace</td>\n",
       "      <td>4.31</td>\n",
       "      <td>90</td>\n",
       "      <td>30.03</td>\n",
       "      <td>15870.566110</td>\n",
       "      <td>1</td>\n",
       "      <td>0</td>\n",
       "      <td>0</td>\n",
       "    </tr>\n",
       "  </tbody>\n",
       "</table>\n",
       "<p>4994 rows × 9 columns</p>\n",
       "</div>"
      ],
      "text/plain": [
       "        JOB_ID JOB_TYPE  DEPTH_M  DIAMETER_MM  LENGTH_M      JOB_COST  \\\n",
       "0        Job 1  Replace     2.19          200     31.55  19847.644300   \n",
       "1        Job 2  Replace     2.27           63     15.14   4476.588985   \n",
       "2        Job 3   Repair     3.64          450     15.17  16871.484850   \n",
       "3        Job 4  Replace     2.28          200     15.64  11158.144200   \n",
       "4        Job 5  Replace     2.40          200     39.23  16913.611580   \n",
       "...        ...      ...      ...          ...       ...           ...   \n",
       "4995  Job 4996  Replace     2.06          125     23.34   9846.054169   \n",
       "4996  Job 4997  Replace     2.17          250     28.22  16475.714440   \n",
       "4997  Job 4998   Repair     3.01           50     18.39   1617.823411   \n",
       "4998  Job 4999  Replace     2.75           50     34.72   5313.796675   \n",
       "4999  Job 5000  Replace     4.31           90     30.03  15870.566110   \n",
       "\n",
       "      material_AC  material_CI  material_ST  \n",
       "0               0            0            1  \n",
       "1               1            0            0  \n",
       "2               0            0            1  \n",
       "3               1            0            0  \n",
       "4               0            0            1  \n",
       "...           ...          ...          ...  \n",
       "4995            1            0            0  \n",
       "4996            1            0            0  \n",
       "4997            1            0            0  \n",
       "4998            0            1            0  \n",
       "4999            1            0            0  \n",
       "\n",
       "[4994 rows x 9 columns]"
      ]
     },
     "execution_count": 52,
     "metadata": {},
     "output_type": "execute_result"
    }
   ],
   "source": [
    "arcan2"
   ]
  },
  {
   "cell_type": "code",
   "execution_count": 53,
   "metadata": {},
   "outputs": [],
   "source": [
    "arcan3=arcan2.copy()"
   ]
  },
  {
   "cell_type": "code",
   "execution_count": 54,
   "metadata": {},
   "outputs": [],
   "source": [
    "arcan3= pd.concat([arcan3,pd.get_dummies(arcan3['JOB_TYPE'],prefix='job_type')],axis=1)\n",
    "arcan3.drop(['JOB_TYPE'],axis=1,inplace=True)"
   ]
  },
  {
   "cell_type": "code",
   "execution_count": 207,
   "metadata": {},
   "outputs": [
    {
     "data": {
      "text/html": [
       "<div>\n",
       "<style scoped>\n",
       "    .dataframe tbody tr th:only-of-type {\n",
       "        vertical-align: middle;\n",
       "    }\n",
       "\n",
       "    .dataframe tbody tr th {\n",
       "        vertical-align: top;\n",
       "    }\n",
       "\n",
       "    .dataframe thead th {\n",
       "        text-align: right;\n",
       "    }\n",
       "</style>\n",
       "<table border=\"1\" class=\"dataframe\">\n",
       "  <thead>\n",
       "    <tr style=\"text-align: right;\">\n",
       "      <th></th>\n",
       "      <th>JOB_ID</th>\n",
       "      <th>DEPTH_M</th>\n",
       "      <th>DIAMETER_MM</th>\n",
       "      <th>LENGTH_M</th>\n",
       "      <th>JOB_COST</th>\n",
       "      <th>material_AC</th>\n",
       "      <th>material_CI</th>\n",
       "      <th>material_ST</th>\n",
       "      <th>job_type_Repair</th>\n",
       "      <th>job_type_Replace</th>\n",
       "    </tr>\n",
       "  </thead>\n",
       "  <tbody>\n",
       "    <tr>\n",
       "      <th>0</th>\n",
       "      <td>Job 1</td>\n",
       "      <td>2.19</td>\n",
       "      <td>200</td>\n",
       "      <td>31.55</td>\n",
       "      <td>19847.644300</td>\n",
       "      <td>0</td>\n",
       "      <td>0</td>\n",
       "      <td>1</td>\n",
       "      <td>0</td>\n",
       "      <td>1</td>\n",
       "    </tr>\n",
       "    <tr>\n",
       "      <th>1</th>\n",
       "      <td>Job 2</td>\n",
       "      <td>2.27</td>\n",
       "      <td>63</td>\n",
       "      <td>15.14</td>\n",
       "      <td>4476.588985</td>\n",
       "      <td>1</td>\n",
       "      <td>0</td>\n",
       "      <td>0</td>\n",
       "      <td>0</td>\n",
       "      <td>1</td>\n",
       "    </tr>\n",
       "    <tr>\n",
       "      <th>2</th>\n",
       "      <td>Job 3</td>\n",
       "      <td>3.64</td>\n",
       "      <td>450</td>\n",
       "      <td>15.17</td>\n",
       "      <td>16871.484850</td>\n",
       "      <td>0</td>\n",
       "      <td>0</td>\n",
       "      <td>1</td>\n",
       "      <td>1</td>\n",
       "      <td>0</td>\n",
       "    </tr>\n",
       "    <tr>\n",
       "      <th>3</th>\n",
       "      <td>Job 4</td>\n",
       "      <td>2.28</td>\n",
       "      <td>200</td>\n",
       "      <td>15.64</td>\n",
       "      <td>11158.144200</td>\n",
       "      <td>1</td>\n",
       "      <td>0</td>\n",
       "      <td>0</td>\n",
       "      <td>0</td>\n",
       "      <td>1</td>\n",
       "    </tr>\n",
       "    <tr>\n",
       "      <th>4</th>\n",
       "      <td>Job 5</td>\n",
       "      <td>2.40</td>\n",
       "      <td>200</td>\n",
       "      <td>39.23</td>\n",
       "      <td>16913.611580</td>\n",
       "      <td>0</td>\n",
       "      <td>0</td>\n",
       "      <td>1</td>\n",
       "      <td>0</td>\n",
       "      <td>1</td>\n",
       "    </tr>\n",
       "    <tr>\n",
       "      <th>...</th>\n",
       "      <td>...</td>\n",
       "      <td>...</td>\n",
       "      <td>...</td>\n",
       "      <td>...</td>\n",
       "      <td>...</td>\n",
       "      <td>...</td>\n",
       "      <td>...</td>\n",
       "      <td>...</td>\n",
       "      <td>...</td>\n",
       "      <td>...</td>\n",
       "    </tr>\n",
       "    <tr>\n",
       "      <th>4995</th>\n",
       "      <td>Job 4996</td>\n",
       "      <td>2.06</td>\n",
       "      <td>125</td>\n",
       "      <td>23.34</td>\n",
       "      <td>9846.054169</td>\n",
       "      <td>1</td>\n",
       "      <td>0</td>\n",
       "      <td>0</td>\n",
       "      <td>0</td>\n",
       "      <td>1</td>\n",
       "    </tr>\n",
       "    <tr>\n",
       "      <th>4996</th>\n",
       "      <td>Job 4997</td>\n",
       "      <td>2.17</td>\n",
       "      <td>250</td>\n",
       "      <td>28.22</td>\n",
       "      <td>16475.714440</td>\n",
       "      <td>1</td>\n",
       "      <td>0</td>\n",
       "      <td>0</td>\n",
       "      <td>0</td>\n",
       "      <td>1</td>\n",
       "    </tr>\n",
       "    <tr>\n",
       "      <th>4997</th>\n",
       "      <td>Job 4998</td>\n",
       "      <td>3.01</td>\n",
       "      <td>50</td>\n",
       "      <td>18.39</td>\n",
       "      <td>1617.823411</td>\n",
       "      <td>1</td>\n",
       "      <td>0</td>\n",
       "      <td>0</td>\n",
       "      <td>1</td>\n",
       "      <td>0</td>\n",
       "    </tr>\n",
       "    <tr>\n",
       "      <th>4998</th>\n",
       "      <td>Job 4999</td>\n",
       "      <td>2.75</td>\n",
       "      <td>50</td>\n",
       "      <td>34.72</td>\n",
       "      <td>5313.796675</td>\n",
       "      <td>0</td>\n",
       "      <td>1</td>\n",
       "      <td>0</td>\n",
       "      <td>0</td>\n",
       "      <td>1</td>\n",
       "    </tr>\n",
       "    <tr>\n",
       "      <th>4999</th>\n",
       "      <td>Job 5000</td>\n",
       "      <td>4.31</td>\n",
       "      <td>90</td>\n",
       "      <td>30.03</td>\n",
       "      <td>15870.566110</td>\n",
       "      <td>1</td>\n",
       "      <td>0</td>\n",
       "      <td>0</td>\n",
       "      <td>0</td>\n",
       "      <td>1</td>\n",
       "    </tr>\n",
       "  </tbody>\n",
       "</table>\n",
       "<p>4994 rows × 10 columns</p>\n",
       "</div>"
      ],
      "text/plain": [
       "        JOB_ID  DEPTH_M  DIAMETER_MM  LENGTH_M      JOB_COST  material_AC  \\\n",
       "0        Job 1     2.19          200     31.55  19847.644300            0   \n",
       "1        Job 2     2.27           63     15.14   4476.588985            1   \n",
       "2        Job 3     3.64          450     15.17  16871.484850            0   \n",
       "3        Job 4     2.28          200     15.64  11158.144200            1   \n",
       "4        Job 5     2.40          200     39.23  16913.611580            0   \n",
       "...        ...      ...          ...       ...           ...          ...   \n",
       "4995  Job 4996     2.06          125     23.34   9846.054169            1   \n",
       "4996  Job 4997     2.17          250     28.22  16475.714440            1   \n",
       "4997  Job 4998     3.01           50     18.39   1617.823411            1   \n",
       "4998  Job 4999     2.75           50     34.72   5313.796675            0   \n",
       "4999  Job 5000     4.31           90     30.03  15870.566110            1   \n",
       "\n",
       "      material_CI  material_ST  job_type_Repair  job_type_Replace  \n",
       "0               0            1                0                 1  \n",
       "1               0            0                0                 1  \n",
       "2               0            1                1                 0  \n",
       "3               0            0                0                 1  \n",
       "4               0            1                0                 1  \n",
       "...           ...          ...              ...               ...  \n",
       "4995            0            0                0                 1  \n",
       "4996            0            0                0                 1  \n",
       "4997            0            0                1                 0  \n",
       "4998            1            0                0                 1  \n",
       "4999            0            0                0                 1  \n",
       "\n",
       "[4994 rows x 10 columns]"
      ]
     },
     "execution_count": 207,
     "metadata": {},
     "output_type": "execute_result"
    }
   ],
   "source": [
    "arcan3"
   ]
  },
  {
   "cell_type": "code",
   "execution_count": 55,
   "metadata": {},
   "outputs": [
    {
     "data": {
      "text/html": [
       "<div>\n",
       "<style scoped>\n",
       "    .dataframe tbody tr th:only-of-type {\n",
       "        vertical-align: middle;\n",
       "    }\n",
       "\n",
       "    .dataframe tbody tr th {\n",
       "        vertical-align: top;\n",
       "    }\n",
       "\n",
       "    .dataframe thead th {\n",
       "        text-align: right;\n",
       "    }\n",
       "</style>\n",
       "<table border=\"1\" class=\"dataframe\">\n",
       "  <thead>\n",
       "    <tr style=\"text-align: right;\">\n",
       "      <th></th>\n",
       "      <th>DEPTH_M</th>\n",
       "      <th>DIAMETER_MM</th>\n",
       "      <th>LENGTH_M</th>\n",
       "      <th>JOB_COST</th>\n",
       "      <th>material_AC</th>\n",
       "      <th>material_CI</th>\n",
       "      <th>material_ST</th>\n",
       "      <th>job_type_Repair</th>\n",
       "      <th>job_type_Replace</th>\n",
       "    </tr>\n",
       "  </thead>\n",
       "  <tbody>\n",
       "    <tr>\n",
       "      <th>0</th>\n",
       "      <td>2.19</td>\n",
       "      <td>200</td>\n",
       "      <td>31.55</td>\n",
       "      <td>19847.644300</td>\n",
       "      <td>0</td>\n",
       "      <td>0</td>\n",
       "      <td>1</td>\n",
       "      <td>0</td>\n",
       "      <td>1</td>\n",
       "    </tr>\n",
       "    <tr>\n",
       "      <th>1</th>\n",
       "      <td>2.27</td>\n",
       "      <td>63</td>\n",
       "      <td>15.14</td>\n",
       "      <td>4476.588985</td>\n",
       "      <td>1</td>\n",
       "      <td>0</td>\n",
       "      <td>0</td>\n",
       "      <td>0</td>\n",
       "      <td>1</td>\n",
       "    </tr>\n",
       "    <tr>\n",
       "      <th>2</th>\n",
       "      <td>3.64</td>\n",
       "      <td>450</td>\n",
       "      <td>15.17</td>\n",
       "      <td>16871.484850</td>\n",
       "      <td>0</td>\n",
       "      <td>0</td>\n",
       "      <td>1</td>\n",
       "      <td>1</td>\n",
       "      <td>0</td>\n",
       "    </tr>\n",
       "    <tr>\n",
       "      <th>3</th>\n",
       "      <td>2.28</td>\n",
       "      <td>200</td>\n",
       "      <td>15.64</td>\n",
       "      <td>11158.144200</td>\n",
       "      <td>1</td>\n",
       "      <td>0</td>\n",
       "      <td>0</td>\n",
       "      <td>0</td>\n",
       "      <td>1</td>\n",
       "    </tr>\n",
       "    <tr>\n",
       "      <th>4</th>\n",
       "      <td>2.40</td>\n",
       "      <td>200</td>\n",
       "      <td>39.23</td>\n",
       "      <td>16913.611580</td>\n",
       "      <td>0</td>\n",
       "      <td>0</td>\n",
       "      <td>1</td>\n",
       "      <td>0</td>\n",
       "      <td>1</td>\n",
       "    </tr>\n",
       "    <tr>\n",
       "      <th>...</th>\n",
       "      <td>...</td>\n",
       "      <td>...</td>\n",
       "      <td>...</td>\n",
       "      <td>...</td>\n",
       "      <td>...</td>\n",
       "      <td>...</td>\n",
       "      <td>...</td>\n",
       "      <td>...</td>\n",
       "      <td>...</td>\n",
       "    </tr>\n",
       "    <tr>\n",
       "      <th>4995</th>\n",
       "      <td>2.06</td>\n",
       "      <td>125</td>\n",
       "      <td>23.34</td>\n",
       "      <td>9846.054169</td>\n",
       "      <td>1</td>\n",
       "      <td>0</td>\n",
       "      <td>0</td>\n",
       "      <td>0</td>\n",
       "      <td>1</td>\n",
       "    </tr>\n",
       "    <tr>\n",
       "      <th>4996</th>\n",
       "      <td>2.17</td>\n",
       "      <td>250</td>\n",
       "      <td>28.22</td>\n",
       "      <td>16475.714440</td>\n",
       "      <td>1</td>\n",
       "      <td>0</td>\n",
       "      <td>0</td>\n",
       "      <td>0</td>\n",
       "      <td>1</td>\n",
       "    </tr>\n",
       "    <tr>\n",
       "      <th>4997</th>\n",
       "      <td>3.01</td>\n",
       "      <td>50</td>\n",
       "      <td>18.39</td>\n",
       "      <td>1617.823411</td>\n",
       "      <td>1</td>\n",
       "      <td>0</td>\n",
       "      <td>0</td>\n",
       "      <td>1</td>\n",
       "      <td>0</td>\n",
       "    </tr>\n",
       "    <tr>\n",
       "      <th>4998</th>\n",
       "      <td>2.75</td>\n",
       "      <td>50</td>\n",
       "      <td>34.72</td>\n",
       "      <td>5313.796675</td>\n",
       "      <td>0</td>\n",
       "      <td>1</td>\n",
       "      <td>0</td>\n",
       "      <td>0</td>\n",
       "      <td>1</td>\n",
       "    </tr>\n",
       "    <tr>\n",
       "      <th>4999</th>\n",
       "      <td>4.31</td>\n",
       "      <td>90</td>\n",
       "      <td>30.03</td>\n",
       "      <td>15870.566110</td>\n",
       "      <td>1</td>\n",
       "      <td>0</td>\n",
       "      <td>0</td>\n",
       "      <td>0</td>\n",
       "      <td>1</td>\n",
       "    </tr>\n",
       "  </tbody>\n",
       "</table>\n",
       "<p>4994 rows × 9 columns</p>\n",
       "</div>"
      ],
      "text/plain": [
       "      DEPTH_M  DIAMETER_MM  LENGTH_M      JOB_COST  material_AC  material_CI  \\\n",
       "0        2.19          200     31.55  19847.644300            0            0   \n",
       "1        2.27           63     15.14   4476.588985            1            0   \n",
       "2        3.64          450     15.17  16871.484850            0            0   \n",
       "3        2.28          200     15.64  11158.144200            1            0   \n",
       "4        2.40          200     39.23  16913.611580            0            0   \n",
       "...       ...          ...       ...           ...          ...          ...   \n",
       "4995     2.06          125     23.34   9846.054169            1            0   \n",
       "4996     2.17          250     28.22  16475.714440            1            0   \n",
       "4997     3.01           50     18.39   1617.823411            1            0   \n",
       "4998     2.75           50     34.72   5313.796675            0            1   \n",
       "4999     4.31           90     30.03  15870.566110            1            0   \n",
       "\n",
       "      material_ST  job_type_Repair  job_type_Replace  \n",
       "0               1                0                 1  \n",
       "1               0                0                 1  \n",
       "2               1                1                 0  \n",
       "3               0                0                 1  \n",
       "4               1                0                 1  \n",
       "...           ...              ...               ...  \n",
       "4995            0                0                 1  \n",
       "4996            0                0                 1  \n",
       "4997            0                1                 0  \n",
       "4998            0                0                 1  \n",
       "4999            0                0                 1  \n",
       "\n",
       "[4994 rows x 9 columns]"
      ]
     },
     "execution_count": 55,
     "metadata": {},
     "output_type": "execute_result"
    }
   ],
   "source": [
    "#gen is the transformed version of arcan df, so all the variables are numerical\n",
    "gen = arcan3.drop(columns=['JOB_ID'])\n",
    "gen"
   ]
  },
  {
   "cell_type": "code",
   "execution_count": 57,
   "metadata": {},
   "outputs": [
    {
     "data": {
      "text/html": [
       "<div>\n",
       "<style scoped>\n",
       "    .dataframe tbody tr th:only-of-type {\n",
       "        vertical-align: middle;\n",
       "    }\n",
       "\n",
       "    .dataframe tbody tr th {\n",
       "        vertical-align: top;\n",
       "    }\n",
       "\n",
       "    .dataframe thead th {\n",
       "        text-align: right;\n",
       "    }\n",
       "</style>\n",
       "<table border=\"1\" class=\"dataframe\">\n",
       "  <thead>\n",
       "    <tr style=\"text-align: right;\">\n",
       "      <th></th>\n",
       "      <th>DEPTH_M</th>\n",
       "      <th>DIAMETER_MM</th>\n",
       "      <th>LENGTH_M</th>\n",
       "      <th>JOB_COST</th>\n",
       "      <th>material_AC</th>\n",
       "      <th>material_CI</th>\n",
       "      <th>material_ST</th>\n",
       "      <th>job_type_Repair</th>\n",
       "      <th>job_type_Replace</th>\n",
       "    </tr>\n",
       "  </thead>\n",
       "  <tbody>\n",
       "    <tr>\n",
       "      <th>count</th>\n",
       "      <td>4994.000000</td>\n",
       "      <td>4994.000000</td>\n",
       "      <td>4994.000000</td>\n",
       "      <td>4994.000000</td>\n",
       "      <td>4994.000000</td>\n",
       "      <td>4994.000000</td>\n",
       "      <td>4994.000000</td>\n",
       "      <td>4994.000000</td>\n",
       "      <td>4994.000000</td>\n",
       "    </tr>\n",
       "    <tr>\n",
       "      <th>mean</th>\n",
       "      <td>2.670805</td>\n",
       "      <td>733.742491</td>\n",
       "      <td>25.132765</td>\n",
       "      <td>10207.698215</td>\n",
       "      <td>0.512014</td>\n",
       "      <td>0.286544</td>\n",
       "      <td>0.201442</td>\n",
       "      <td>0.298358</td>\n",
       "      <td>0.701642</td>\n",
       "    </tr>\n",
       "    <tr>\n",
       "      <th>std</th>\n",
       "      <td>0.853169</td>\n",
       "      <td>24501.573970</td>\n",
       "      <td>9.094583</td>\n",
       "      <td>9534.848466</td>\n",
       "      <td>0.499906</td>\n",
       "      <td>0.452192</td>\n",
       "      <td>0.401117</td>\n",
       "      <td>0.457583</td>\n",
       "      <td>0.457583</td>\n",
       "    </tr>\n",
       "    <tr>\n",
       "      <th>min</th>\n",
       "      <td>-4.660000</td>\n",
       "      <td>50.000000</td>\n",
       "      <td>8.160000</td>\n",
       "      <td>586.506169</td>\n",
       "      <td>0.000000</td>\n",
       "      <td>0.000000</td>\n",
       "      <td>0.000000</td>\n",
       "      <td>0.000000</td>\n",
       "      <td>0.000000</td>\n",
       "    </tr>\n",
       "    <tr>\n",
       "      <th>25%</th>\n",
       "      <td>2.002500</td>\n",
       "      <td>63.000000</td>\n",
       "      <td>17.810000</td>\n",
       "      <td>3978.863093</td>\n",
       "      <td>0.000000</td>\n",
       "      <td>0.000000</td>\n",
       "      <td>0.000000</td>\n",
       "      <td>0.000000</td>\n",
       "      <td>0.000000</td>\n",
       "    </tr>\n",
       "    <tr>\n",
       "      <th>50%</th>\n",
       "      <td>2.570000</td>\n",
       "      <td>90.000000</td>\n",
       "      <td>23.785000</td>\n",
       "      <td>6986.901196</td>\n",
       "      <td>1.000000</td>\n",
       "      <td>0.000000</td>\n",
       "      <td>0.000000</td>\n",
       "      <td>0.000000</td>\n",
       "      <td>1.000000</td>\n",
       "    </tr>\n",
       "    <tr>\n",
       "      <th>75%</th>\n",
       "      <td>3.270000</td>\n",
       "      <td>200.000000</td>\n",
       "      <td>31.657500</td>\n",
       "      <td>12884.617365</td>\n",
       "      <td>1.000000</td>\n",
       "      <td>1.000000</td>\n",
       "      <td>0.000000</td>\n",
       "      <td>1.000000</td>\n",
       "      <td>1.000000</td>\n",
       "    </tr>\n",
       "    <tr>\n",
       "      <th>max</th>\n",
       "      <td>4.980000</td>\n",
       "      <td>999999.000000</td>\n",
       "      <td>49.710000</td>\n",
       "      <td>85860.133000</td>\n",
       "      <td>1.000000</td>\n",
       "      <td>1.000000</td>\n",
       "      <td>1.000000</td>\n",
       "      <td>1.000000</td>\n",
       "      <td>1.000000</td>\n",
       "    </tr>\n",
       "  </tbody>\n",
       "</table>\n",
       "</div>"
      ],
      "text/plain": [
       "           DEPTH_M    DIAMETER_MM     LENGTH_M      JOB_COST  material_AC  \\\n",
       "count  4994.000000    4994.000000  4994.000000   4994.000000  4994.000000   \n",
       "mean      2.670805     733.742491    25.132765  10207.698215     0.512014   \n",
       "std       0.853169   24501.573970     9.094583   9534.848466     0.499906   \n",
       "min      -4.660000      50.000000     8.160000    586.506169     0.000000   \n",
       "25%       2.002500      63.000000    17.810000   3978.863093     0.000000   \n",
       "50%       2.570000      90.000000    23.785000   6986.901196     1.000000   \n",
       "75%       3.270000     200.000000    31.657500  12884.617365     1.000000   \n",
       "max       4.980000  999999.000000    49.710000  85860.133000     1.000000   \n",
       "\n",
       "       material_CI  material_ST  job_type_Repair  job_type_Replace  \n",
       "count  4994.000000  4994.000000      4994.000000       4994.000000  \n",
       "mean      0.286544     0.201442         0.298358          0.701642  \n",
       "std       0.452192     0.401117         0.457583          0.457583  \n",
       "min       0.000000     0.000000         0.000000          0.000000  \n",
       "25%       0.000000     0.000000         0.000000          0.000000  \n",
       "50%       0.000000     0.000000         0.000000          1.000000  \n",
       "75%       1.000000     0.000000         1.000000          1.000000  \n",
       "max       1.000000     1.000000         1.000000          1.000000  "
      ]
     },
     "execution_count": 57,
     "metadata": {},
     "output_type": "execute_result"
    }
   ],
   "source": [
    "gen.describe()"
   ]
  },
  {
   "cell_type": "code",
   "execution_count": 93,
   "metadata": {},
   "outputs": [],
   "source": [
    "X = gen.drop(['JOB_COST'],axis=1).values\n",
    "y = gen['JOB_COST'].values"
   ]
  },
  {
   "cell_type": "code",
   "execution_count": 71,
   "metadata": {},
   "outputs": [
    {
     "ename": "TypeError",
     "evalue": "'numpy.dtype' object is not callable",
     "output_type": "error",
     "traceback": [
      "\u001b[0;31m---------------------------------------------------------------------------\u001b[0m",
      "\u001b[0;31mTypeError\u001b[0m                                 Traceback (most recent call last)",
      "\u001b[0;32m<ipython-input-71-fa1024fbe349>\u001b[0m in \u001b[0;36m<module>\u001b[0;34m\u001b[0m\n\u001b[1;32m      3\u001b[0m \u001b[0mX\u001b[0m\u001b[0;34m=\u001b[0m\u001b[0mscaler\u001b[0m\u001b[0;34m.\u001b[0m\u001b[0mfit_transform\u001b[0m\u001b[0;34m(\u001b[0m\u001b[0mnp\u001b[0m\u001b[0;34m.\u001b[0m\u001b[0marray\u001b[0m\u001b[0;34m(\u001b[0m\u001b[0mX\u001b[0m\u001b[0;34m,\u001b[0m\u001b[0mdtype\u001b[0m\u001b[0;34m=\u001b[0m\u001b[0mfloat\u001b[0m\u001b[0;34m)\u001b[0m\u001b[0;34m)\u001b[0m\u001b[0;34m\u001b[0m\u001b[0;34m\u001b[0m\u001b[0m\n\u001b[1;32m      4\u001b[0m \u001b[0my\u001b[0m\u001b[0;34m=\u001b[0m\u001b[0mnp\u001b[0m\u001b[0;34m.\u001b[0m\u001b[0mravel\u001b[0m\u001b[0;34m(\u001b[0m\u001b[0my\u001b[0m\u001b[0;34m)\u001b[0m\u001b[0;34m\u001b[0m\u001b[0;34m\u001b[0m\u001b[0m\n\u001b[0;32m----> 5\u001b[0;31m \u001b[0mprint\u001b[0m\u001b[0;34m(\u001b[0m\u001b[0mX\u001b[0m\u001b[0;34m.\u001b[0m\u001b[0mdtype\u001b[0m\u001b[0;34m(\u001b[0m\u001b[0;34m)\u001b[0m\u001b[0;34m)\u001b[0m\u001b[0;34m\u001b[0m\u001b[0;34m\u001b[0m\u001b[0m\n\u001b[0m\u001b[1;32m      6\u001b[0m \u001b[0mprint\u001b[0m\u001b[0;34m(\u001b[0m\u001b[0my\u001b[0m\u001b[0;34m.\u001b[0m\u001b[0mdtype\u001b[0m\u001b[0;34m(\u001b[0m\u001b[0;34m)\u001b[0m\u001b[0;34m)\u001b[0m\u001b[0;34m\u001b[0m\u001b[0;34m\u001b[0m\u001b[0m\n",
      "\u001b[0;31mTypeError\u001b[0m: 'numpy.dtype' object is not callable"
     ]
    }
   ],
   "source": [
    "from sklearn.preprocessing import StandardScaler\n",
    "scaler = StandardScaler()\n",
    "X=scaler.fit_transform(np.array(X,dtype=float))\n",
    "y=np.ravel(y)\n"
   ]
  },
  {
   "cell_type": "code",
   "execution_count": 94,
   "metadata": {},
   "outputs": [
    {
     "name": "stdout",
     "output_type": "stream",
     "text": [
      "float64\n",
      "float64\n"
     ]
    }
   ],
   "source": [
    "print(X.dtype)\n",
    "print(y.dtype)"
   ]
  },
  {
   "cell_type": "code",
   "execution_count": 95,
   "metadata": {},
   "outputs": [],
   "source": [
    "#splitting the dataset into train and test sets\n",
    "from sklearn.model_selection import train_test_split\n",
    "X_train, X_test, y_train, y_test = train_test_split(X,y,test_size=0.2,random_state=42)"
   ]
  },
  {
   "cell_type": "code",
   "execution_count": 96,
   "metadata": {},
   "outputs": [
    {
     "data": {
      "text/plain": [
       "LinearRegression(copy_X=True, fit_intercept=True, n_jobs=None, normalize=False)"
      ]
     },
     "execution_count": 96,
     "metadata": {},
     "output_type": "execute_result"
    }
   ],
   "source": [
    "from sklearn.linear_model import LinearRegression\n",
    "\n",
    "lin_reg = LinearRegression()\n",
    "lin_reg.fit(X_train,y_train)"
   ]
  },
  {
   "cell_type": "code",
   "execution_count": 97,
   "metadata": {
    "scrolled": true
   },
   "outputs": [
    {
     "name": "stdout",
     "output_type": "stream",
     "text": [
      "[ 1.45897582e+04  1.26522522e+04  6.76814142e+03  7.09198213e+03\n",
      "  1.62202798e+04  1.09636663e+04  1.43931731e+04  9.73832224e+02\n",
      "  7.57069310e+03  3.42177010e+03  8.77872593e+03  1.14950542e+04\n",
      "  1.44204088e+04  1.26683321e+04  6.99566420e+03  5.50712195e+03\n",
      "  4.69416710e+02  1.85443191e+04  6.90597947e+03  6.03282085e+03\n",
      "  8.16740006e+03  9.81596946e+03  3.77871130e+03  2.15947331e+03\n",
      "  5.68214538e+03  1.16127862e+04  5.11861977e+03  9.11040965e+03\n",
      "  2.14592230e+04  1.21466182e+04  4.46072040e+03  9.75342316e+03\n",
      "  4.56804821e+03  5.88245799e+03  6.87045525e+03  1.79860730e+04\n",
      "  1.77113889e+04  1.06327973e+04  8.22981895e+03  8.90241824e+03\n",
      "  6.62574054e+03  8.61107038e+03  1.04813108e+04  1.49785994e+04\n",
      "  2.01952374e+04  1.79794333e+04  1.41832772e+04  1.08769708e+04\n",
      "  1.31314421e+04  9.63174243e+02  1.62602099e+04  1.06576033e+04\n",
      "  8.14940787e+03  1.53158207e+04  5.85590791e+03  9.48191518e+03\n",
      "  1.09762479e+03  1.64851134e+04  1.37900398e+04  3.60107832e+03\n",
      "  1.22835596e+04  1.03647753e+04  1.37175845e+04  5.97379900e+02\n",
      "  1.47740056e+04  8.73941271e+03  1.88473039e+04  6.56354883e+03\n",
      "  6.11605657e+03  9.26793258e+03  1.40880433e+04  1.22719241e+03\n",
      "  4.28372762e+03  5.72435742e+03  1.36314670e+04 -2.41860730e+03\n",
      "  1.74412646e+04  1.79305514e+04 -1.44447811e+03  6.33261987e+03\n",
      "  1.63601833e+04  1.54446083e+04  9.07428723e+03  3.42610493e+03\n",
      "  9.76437279e+03  1.64109276e+04  1.58896823e+04  1.07450641e+04\n",
      "  1.43963561e+04  1.20150349e+04  7.13638583e+03  5.31093251e+03\n",
      "  8.40062504e+03  5.70611286e+03  1.89227047e+03  5.08879477e+03\n",
      "  1.58849902e+04 -8.72750243e+02  1.12512830e+04  4.83069376e+03\n",
      "  7.44219087e+03  2.41781248e+03  5.87547624e+03  8.87752999e+03\n",
      "  1.38330609e+04  4.08939533e+03  7.14873042e+03  6.37978278e+03\n",
      "  2.11749549e+03  1.01329370e+04  1.06235042e+04  1.01693748e+04\n",
      "  2.75815806e+03  1.00632402e+04  5.50170726e+03  4.19160920e+03\n",
      "  1.07884656e+04  1.39860688e+04  1.13349238e+04  1.02497182e+04\n",
      "  1.36641315e+04  8.82391854e+03  1.15811347e+04  8.32662988e+03\n",
      "  1.38318372e+04  4.18669183e+03  1.05009311e+04  2.17108854e+04\n",
      "  1.05066167e+04  1.73859928e+04  1.16807311e+04  1.01642559e+04\n",
      "  1.51282459e+04  1.00024411e+04  1.01352274e+04  1.84031761e+04\n",
      "  1.30615334e+04  1.07832878e+03  7.52197055e+03  1.57398491e+04\n",
      "  1.10102036e+04  1.20062836e+03  1.57313911e+04  1.37743546e+04\n",
      "  1.43139783e+04  6.97286843e+03  1.54549808e+04 -5.34242343e+02\n",
      "  6.92906959e+03  1.36379916e+04  1.52831540e+03  1.41941041e+04\n",
      "  1.39345082e+04  6.11902956e+03  1.46120893e+04  9.94823889e+03\n",
      "  1.78231170e+04  1.13268600e+04  1.04307033e+04  1.19679145e+04\n",
      "  1.74055386e+04  1.08969074e+04  2.36970789e+03  1.44585437e+04\n",
      "  1.12487676e+04  5.05907117e+02  7.30531502e+03  4.14874881e+03\n",
      "  5.67872214e+03  7.77007278e+03  1.32476964e+04  1.26985297e+04\n",
      "  4.58352962e+03  1.00333673e+04  2.43621737e+03 -1.19911064e+03\n",
      "  9.21586021e+02  1.39319223e+04  1.31626250e+04 -1.87609608e+03\n",
      "  5.30718099e+03  2.48668237e+03  1.22055317e+04  1.34704679e+04\n",
      "  1.38930953e+04  1.97827310e+04  8.87629665e+03  1.70495161e+04\n",
      "  1.37042051e+03  1.19590751e+03  9.67541740e+02  6.39221540e+03\n",
      "  1.12623444e+04  1.38697786e+04 -6.44895898e+02  1.36525174e+04\n",
      "  1.44806974e+04  8.72222523e+03  8.55043232e+03  1.69199826e+04\n",
      "  1.58309425e+04  1.10263465e+04  9.39592973e+03  3.58828069e+03\n",
      "  1.75833960e+03  4.50540630e+03  9.03974338e+03  7.75892903e+03\n",
      "  3.73202805e+03 -1.92943453e+03  7.59179444e+03  1.34754269e+04\n",
      "  6.58319812e+03  9.83879263e+03  5.95326242e+03  6.34188097e+02\n",
      "  1.07330165e+04  9.78707059e+03  6.12314481e+03  1.19353245e+04\n",
      "  2.08520634e+04  1.13272919e+04  1.88425408e+04  7.57951213e+03\n",
      "  1.57579642e+04  5.25608437e+03  9.67379245e+03  4.20191751e+03\n",
      "  1.73504438e+04  5.43512724e+03  5.90186985e+03  1.60322465e+04\n",
      "  1.26540723e+04  1.69466776e+04  5.58947598e+03  7.80418716e+03\n",
      "  1.15513428e+04  1.24647225e+04  5.85734773e+03  5.81334360e+03\n",
      "  1.52810363e+04  4.60543772e+03  3.07384935e+03  1.29991457e+04\n",
      "  9.02957478e+03  6.34225738e+03  4.18635669e+03  1.35590982e+04\n",
      "  1.04055437e+04  1.65707073e+04  1.35744112e+04  1.27746247e+04\n",
      "  1.17685495e+04  1.39733906e+04  1.09099548e+04  1.36224835e+04\n",
      "  9.64147374e+03  1.19744957e+04  1.85061181e+04 -5.00609203e+02\n",
      "  1.65618363e+04  5.65105377e+03  1.08747514e+04  9.04203522e+03\n",
      "  1.94999374e+04  6.17437499e+03  1.41283435e+04  1.57638911e+04\n",
      "  7.64447506e+03  8.10851742e+03  1.41466512e+04  7.68169245e+03\n",
      "  8.54892562e+03  1.72179114e+04  9.13159459e+03  8.39664044e+03\n",
      "  7.07665839e+03  1.70053067e+04  1.16004708e+03  8.22549447e+03\n",
      "  1.04206448e+04  1.32501500e+04  4.22536932e+03  5.26371083e+03\n",
      "  2.85976766e+03  8.99425378e+03  1.62243581e+04  9.12351641e+03\n",
      "  1.39558372e+04  9.95613598e+03  1.24758336e+04  1.53457301e+04\n",
      "  1.02892934e+04  8.55638709e+03  1.16867609e+04  1.84795085e+03\n",
      "  1.06741886e+04  1.13842994e+04  1.07906680e+04  1.21783455e+04\n",
      "  8.22879658e+03  2.11620018e+04  1.29033348e+04  1.05366450e+04\n",
      "  1.47563997e+04 -5.77822084e+02  7.38893072e+03  8.06027377e+03\n",
      "  1.64396513e+04  1.68350189e+04  1.64488105e+04  1.21759715e+04\n",
      "  1.64761365e+04  4.95853379e+03  3.76486706e+03  1.24671378e+03\n",
      "  1.78176635e+04  1.00285337e+04  1.91774407e+03  1.53944487e+04\n",
      "  3.21614394e+03  1.82794432e+04  5.32378980e+03  1.83956763e+03\n",
      "  7.52762380e+03  1.60129418e+04  1.30012935e+03  3.71500037e+03\n",
      "  7.78805189e+03  3.07539469e+03  7.98321545e+03  1.27292672e+04\n",
      "  1.62973815e+04  4.66652745e+03  1.79430545e+03  2.09743478e+03\n",
      "  7.55304358e+03  5.79673019e+03  8.37488252e+03  5.47666262e+03\n",
      "  1.16499539e+04  6.98435957e+03  1.43327093e+04  2.03521948e+04\n",
      "  2.73935173e+03  7.03198286e+03  1.18777231e+04  6.10226900e+03\n",
      " -2.04101946e+01  3.71012685e+01 -1.00840226e+03  7.16323760e+03\n",
      "  1.38497603e+04  1.42219168e+04  1.30034345e+04  4.23679800e+03\n",
      " -1.90102802e+03  1.68328858e+04  8.42651722e+03  1.09512902e+04\n",
      "  1.17105737e+04 -8.51864885e+02  1.87896379e+04  7.85764215e+03\n",
      "  1.74085741e+04  7.14234437e+03  1.43508666e+04  1.07754450e+04\n",
      "  7.31509330e+03  1.08829618e+04  1.10581510e+04  2.93095512e+03\n",
      "  2.10270208e+04  7.55252389e+03  8.30623455e+03  1.21039425e+04\n",
      "  1.16129951e+04  1.46580869e+04  3.07325978e+02  2.18322454e+04\n",
      "  3.83783787e+03  1.07744123e+04  1.51226014e+04  4.08694884e+03\n",
      " -5.71131626e+02  6.64955740e+03  4.14195234e+03  1.17678888e+04\n",
      "  9.54732941e+03  1.30082536e+04  1.88477513e+03  7.26673815e+03\n",
      "  1.15230055e+04  1.06278313e+04  1.44506481e+04  1.07566163e+04\n",
      "  3.77041741e+03  1.62928951e+04  7.34647143e+03  1.20125886e+04\n",
      "  8.44585071e+02  8.89339517e+03  1.24603002e+04  1.41563565e+04\n",
      "  1.44363881e+04  3.46050871e+02  2.32556984e+04  9.68087733e+03\n",
      "  1.20980097e+04  2.47377294e+03  8.81174787e+03  1.53163458e+04\n",
      "  1.58935318e+04  2.14631910e+04  9.30134306e+03  1.57678384e+04\n",
      "  1.31406180e+04  1.38246166e+04  1.24822885e+04  1.74180845e+04\n",
      "  2.03122756e+04  1.36240589e+04  1.69924543e+04  1.74471702e+04\n",
      "  1.04235866e+04  1.12502453e+04  1.05967087e+04  1.12706603e+04\n",
      "  1.97815834e+03  1.10862961e+04 -3.74263403e+03  1.26937101e+03\n",
      "  7.13921551e+03  8.70926014e+03  1.10672197e+04  1.40335608e+04\n",
      "  1.67299487e+04  7.44968015e+03  1.36849393e+04  1.86981788e+03\n",
      "  2.22856595e+04  3.78145868e+03  7.87840538e+03  1.00980723e+04\n",
      "  5.71395452e+03  1.89542064e+04  1.31295809e+04  1.46306878e+04\n",
      "  1.32422841e+04  1.28625284e+04  6.03980885e+03  1.19116672e+04\n",
      "  1.39720847e+04  1.69855708e+04  1.35362889e+04  1.28062553e+04\n",
      "  1.39016528e+04  1.11594674e+04  2.02378006e+04  1.74249636e+04\n",
      " -2.20369495e+03  6.49733779e+03  7.83765444e+03  1.58401879e+04\n",
      "  1.90799846e+02  5.89525621e+02  1.38014316e+04  1.73506334e+04\n",
      "  1.06945637e+04  2.13220247e+04  1.25617213e+04  1.02821653e+04\n",
      "  1.01191217e+04  1.77294013e+03  1.96596003e+04  7.02484899e+03\n",
      "  1.53542704e+04  5.53449850e+03  2.09367442e+03  1.89162653e+03\n",
      "  1.43550049e+04  1.32202407e+04  1.34501800e+04  1.16044172e+04\n",
      "  6.60875990e+03  1.22208690e+03  9.75095234e+03  1.35926654e+04\n",
      "  1.86593628e+04  1.29588974e+04  1.40204973e+04  7.48645955e+03\n",
      "  1.03106470e+04  3.52274745e+03  1.39246266e+04  1.49740333e+03\n",
      "  9.25811094e+03  9.77942178e+03  1.58449398e+04  8.94054962e+03\n",
      "  6.64057737e+03  3.35684270e+03 -1.43571945e+03  1.29827077e+04\n",
      "  8.89163065e+03  4.91506790e+03  1.33511394e+04  1.88035916e+04\n",
      "  9.24032402e+03  1.76562871e+04  1.69022809e+04  8.60040326e+03\n",
      "  1.44808597e+04  6.91465673e+03  1.30165617e+03  1.24808829e+04\n",
      "  1.99113311e+04  3.20870574e+03  1.56232400e+04  1.36342196e+04\n",
      "  5.10336090e+03 -2.83063092e+03  1.92250439e+04  6.79690162e+03\n",
      "  1.34345368e+04  1.38795035e+04  5.18381337e+03  3.03852355e+02\n",
      "  5.14885322e+03  1.10637543e+04  4.15123690e+03  4.77663769e+03\n",
      "  6.11418046e+03  1.17362449e+04  8.48155714e+03  3.62397819e+02\n",
      "  6.09261077e+03  1.14662117e+04  9.89241905e+03  5.09617164e+03\n",
      "  1.32771444e+04  1.48553908e+04  1.04574216e+04  1.46680891e+04\n",
      "  8.88824495e+03  9.49966716e+03 -4.77284479e+02  1.76852188e+04\n",
      "  1.84936774e+04  1.04376716e+04  1.11671186e+04  9.75786796e+03\n",
      "  1.64003290e+04  5.19691876e+03  1.54237367e+04  1.96371978e+03\n",
      "  1.98259761e+04  1.43514899e+04  1.07212121e+04  1.35639089e+04\n",
      "  6.92400316e+03  1.28890228e+04  1.20327866e+04  8.99448226e+03\n",
      "  8.34443932e+03  7.94067039e+03  1.19184474e+04  1.53200002e+04\n",
      "  1.39663271e+04  1.93833493e+04  1.04354466e+04  1.43896759e+04\n",
      "  6.27471505e+02  4.38364703e+03  1.17647159e+04  9.67050709e+02\n",
      "  1.01450525e+04  1.57117288e+04  1.34507344e+04  9.92266792e+03\n",
      "  1.94560169e+04  1.36344043e+04  1.06541470e+04  7.68511975e+02\n",
      " -9.84582938e+02  1.62922864e+04  9.03399679e+03  1.12405955e+04\n",
      "  4.82958614e+03  4.87455169e+02  1.05544138e+04  1.81749446e+04\n",
      "  1.18151019e+04  1.72713040e+04  1.11016276e+04  9.31675586e+03\n",
      "  1.51027037e+03  1.76063556e+04  1.15007893e+04  8.55818140e+03\n",
      "  1.89407752e+04  1.37201388e+04  1.24668326e+04  1.79034817e+04\n",
      "  2.03060821e+04  9.82418114e+03  4.17119804e+03  1.53692647e+04\n",
      "  9.75785723e+03  9.93862650e+03  1.79885244e+04  4.73422243e+02\n",
      "  1.26358446e+04  3.43853496e+03  2.16134944e+04  9.08007277e+03\n",
      "  2.29574984e+03  1.28375523e+04  1.74245311e+04  1.35357060e+03\n",
      "  1.55740213e+04  4.03394886e+03  9.48785142e+03  7.52792061e+03\n",
      "  1.56834295e+04  1.18599136e+04  1.14794474e+04  7.93923356e+03\n",
      " -2.59143821e+03  1.24182081e+04  1.05113661e+04  1.17486750e+04\n",
      "  1.45477667e+04  9.69562275e+03  1.07366134e+04  6.83361301e+03\n",
      "  7.24558391e+03  1.21866325e+02  7.12611670e+02  1.34933764e+04\n",
      "  1.63217543e+04  6.70731343e+01  1.16078489e+04  1.96922974e+03\n",
      "  4.90818562e+03  2.13793134e+02  1.25398311e+03  1.10670301e+04\n",
      "  8.08506041e+03  5.73631334e+03  1.88222310e+04  1.21163545e+04\n",
      "  4.94256737e+03  7.58944871e+03  6.09063591e+03  1.40087684e+04\n",
      "  1.83436151e+04  1.23441351e+04  1.43411238e+04  7.20110574e+03\n",
      "  7.91263544e+03  5.81726850e+03  9.05738886e+03  5.24326050e+03\n",
      "  1.34367826e+03 -1.26009651e+03  2.80782263e+03  1.22146279e+04\n",
      "  9.58284854e+03  1.29390792e+04  8.69902324e+03  1.88915671e+04\n",
      "  1.08806162e+04  1.48911931e+04  1.75403274e+04  1.41998367e+04\n",
      "  1.60674388e+04  1.80559825e+04  1.02089120e+04  1.54297922e+03\n",
      "  6.47331443e+03  1.25721919e+04 -5.11731564e+02  1.70652942e+04\n",
      "  1.25252455e+04  1.05916489e+04  1.69089558e+04  1.52077472e+04\n",
      "  4.56056180e+03  8.77159775e+03  1.43388874e+04 -2.50267080e+03\n",
      "  1.10460048e+04  7.84488371e+03  1.52750784e+04  1.48692703e+04\n",
      "  7.86900445e+03  6.34538679e+03  7.94384454e+03  2.31364410e+03\n",
      "  6.64674064e+03  1.43026134e+04  1.23589719e+04  9.98165452e+03\n",
      "  4.27443963e+03  1.47914110e+04  1.17411374e+04  1.52238522e+04\n",
      "  1.20582215e+04  9.19278188e+03 -7.49345577e+02  1.57887028e+04\n",
      "  1.46342883e+04  1.02983845e+04  5.45287475e+03  3.29309922e+03\n",
      "  4.78081526e+03  1.73348376e+04  6.97830394e+03  6.56292985e+03\n",
      "  3.81470157e+03  1.42028747e+04 -1.99128111e+03  1.49712509e+04\n",
      "  1.15013858e+04  1.61331154e+04  6.95227516e+03  1.11994273e+04\n",
      "  1.60032576e+04  7.06519495e+03  1.36120033e+04  1.52170855e+04\n",
      "  1.81598969e+04  9.35782549e+03  1.17909699e+04  7.32033801e+03\n",
      "  1.73042813e+04  1.69204051e+03  5.73386227e+03  1.25539106e+04\n",
      "  8.30594513e+03  1.50688038e+04  1.81249134e+04  1.89063818e+03\n",
      "  1.16857789e+04  2.26843358e+04  9.24585758e+03  2.44611485e+03\n",
      "  9.16725840e+03  9.46735741e+03  1.83881701e+04  6.30074393e+03\n",
      "  1.09310451e+04  1.31052262e+04  6.20573037e+03  1.02690341e+04\n",
      " -8.86463542e+02  1.25305882e+04  8.18138024e+03  6.68140885e+03\n",
      "  1.81107704e+03  8.62745513e+03  1.70687510e+04  1.46576157e+04\n",
      "  9.84143797e+03  7.57495923e+03  1.91707287e+04 -1.65177370e+02\n",
      "  1.19463108e+04  4.95071321e+03  1.58492906e+04  1.53907672e+04\n",
      "  6.99619551e+03  1.79203184e+04  1.31965364e+04  2.21240714e+04\n",
      "  8.53333609e+03  1.02698155e+04  1.21466483e+04 -2.08260556e+03\n",
      "  6.90222292e+03 -3.52615051e+03  1.52724478e+04  7.62037109e+03\n",
      "  2.87554558e+03  1.11371519e+04  3.18163005e+03  1.25060424e+04\n",
      "  7.88251932e+03  6.76722356e+03  1.73541242e+04  1.36191917e+04\n",
      "  1.43380914e+04  8.63027705e+03  8.86276213e+03  1.75919776e+04\n",
      "  5.68260879e+03  1.21658096e+04  9.26022480e+03  2.25090807e+04\n",
      "  1.47221054e+04  3.43386672e+03 -3.47738351e+03  1.91790140e+03\n",
      "  1.44711851e+04  1.20719861e+04  9.90983215e+03  1.33147920e+04\n",
      "  4.92180444e+03  1.50347732e+04  8.56647608e+03  1.57230026e+04\n",
      "  1.39573381e+04  9.23458979e+03  1.22362243e+04  2.30548871e+04\n",
      "  1.44303359e+04  1.56729609e+04  5.14328141e+03  8.68076649e+03\n",
      "  1.14234135e+04  8.93091274e+03 -1.37639219e+04  1.86342629e+04\n",
      "  1.35849421e+04  1.74547156e+04  1.23267803e+04  1.46669072e+04\n",
      "  9.97378164e+03  6.65200608e+03  1.00552206e+04  3.22612101e+03\n",
      "  8.82466453e+03  1.40993446e+04  1.53844916e+04  8.80637619e+03\n",
      "  2.06162695e+04  9.45989877e+03  1.53061972e+04 -6.92546808e+02\n",
      "  9.34846220e+03  4.94387368e+03  9.79868644e+03  1.17764042e+04\n",
      "  3.16760832e+03  1.34641803e+04  4.61949052e+03  8.16390549e+03\n",
      "  6.54015632e+03  9.54832288e+03  9.55400995e+03  1.51970434e+04\n",
      "  2.10979647e+04  1.11573957e+04  9.77464313e+02  8.67114966e+03\n",
      "  1.54576718e+04  1.37851706e+03  9.67016723e+03  5.03983561e+03\n",
      "  1.41979980e+04  1.39692552e+04  1.33006360e+04  1.18510697e+04\n",
      "  3.87437000e+03  1.30482368e+04  1.29577349e+04  1.10794260e+04\n",
      "  4.98871352e+03  9.06162559e+03  7.03792914e+03  1.80299171e+04\n",
      "  2.42182148e+03  1.14304688e+04 -2.98848353e+03  1.36925567e+04\n",
      "  1.67687746e+04  8.22877106e+02  1.76921049e+04  1.01298031e+04\n",
      "  2.34193832e+03  7.42481948e+03  1.25155500e+04  9.55681192e+03\n",
      "  7.94339851e+03  1.04230611e+04  1.09051910e+04 -7.03717011e+02\n",
      "  1.32139740e+04  6.73120550e+02  1.16716543e+04  4.10192474e+03\n",
      "  1.77565474e+04  1.90146586e+04  1.60614452e+04 -1.60046832e+03\n",
      "  6.23711873e+03  8.36107990e+03  8.18541804e+03  6.70908709e+03\n",
      "  1.26109177e+04  4.92148349e+03  1.52902637e+04  9.13422483e+03\n",
      "  7.52034165e+03  1.74749632e+04  9.38640073e+03  1.39069771e+04\n",
      "  8.71229006e+03  2.12323187e+03  3.75462887e+03  1.31704791e+04\n",
      "  6.79441094e+03  1.08341839e+04 -5.24776550e+02  9.55462630e+03\n",
      "  4.11079568e+03  4.46990471e+03  1.35462450e+04  1.51670032e+04\n",
      "  5.32407606e+03  1.17230808e+04  1.91054534e+04  1.34944746e+04\n",
      "  1.12876660e+04  1.89579591e+04  1.21538978e+04  1.13296021e+04\n",
      "  1.05477970e+04  7.90865146e+03  1.17547534e+04  1.79269990e+04\n",
      "  1.41503120e+04 -1.65813799e+03  1.25688337e+03  1.97623013e+04\n",
      "  1.32058265e+04  2.05299771e+04  7.14397938e+03  1.69358588e+04\n",
      "  1.55369344e+04  7.31490240e+03  5.32043200e+03  1.45528491e+04\n",
      "  1.92694406e+04  1.26834428e+04  8.43021730e+03  1.10668858e+04\n",
      "  1.08678095e+04  8.53794839e+03 -1.09541845e+03  3.84484400e+03\n",
      "  1.27357816e+04  1.36800027e+04  1.35725958e+04  1.15454312e+04\n",
      "  7.11003772e+03  1.04011721e+04  1.13072813e+04  1.86999257e+04\n",
      "  2.14625910e+04  3.57674047e+01  1.54876426e+04  8.24053648e+03\n",
      "  8.05990631e+03  8.35295963e+03  7.33617299e+03  1.41413411e+04\n",
      "  1.47414372e+04  7.80519978e+03  1.24032007e+04  9.11364219e+03\n",
      "  1.49910612e+04  1.44356982e+04  8.27423890e+03  2.07108377e+04\n",
      "  1.51116255e+04  1.71693631e+04  5.17349911e+02  3.38359389e+03\n",
      "  1.69697367e+04  1.36486105e+04  1.68006217e+04  5.41907417e+03\n",
      "  2.10563505e+04  4.10519237e+03  6.93213871e+03 -4.43518928e+02\n",
      "  1.66809917e+04  1.47368223e+04  7.06896023e+03  8.01605783e+03\n",
      "  3.90245488e+03  1.31646544e+04  1.54282206e+04  1.14399589e+04\n",
      "  6.51412625e+03  3.13015915e+03  7.67261869e+03]\n"
     ]
    }
   ],
   "source": [
    "y_pred = lin_reg.predict(X_test)\n",
    "print(y_pred)"
   ]
  },
  {
   "cell_type": "code",
   "execution_count": 98,
   "metadata": {},
   "outputs": [
    {
     "data": {
      "text/plain": [
       "array([[  3.28,  63.  ,  24.35, ...,   0.  ,   0.  ,   1.  ],\n",
       "       [  3.3 ,  90.  ,  24.74, ...,   0.  ,   1.  ,   0.  ],\n",
       "       [  1.95,  63.  ,  28.61, ...,   0.  ,   1.  ,   0.  ],\n",
       "       ...,\n",
       "       [  3.73, 200.  ,  12.24, ...,   1.  ,   1.  ,   0.  ],\n",
       "       [  2.07, 125.  ,  27.09, ...,   0.  ,   1.  ,   0.  ],\n",
       "       [  1.68, 250.  ,  11.73, ...,   1.  ,   1.  ,   0.  ]])"
      ]
     },
     "execution_count": 98,
     "metadata": {},
     "output_type": "execute_result"
    }
   ],
   "source": [
    "X_train"
   ]
  },
  {
   "cell_type": "code",
   "execution_count": 100,
   "metadata": {},
   "outputs": [
    {
     "data": {
      "text/plain": [
       "array([7950.353235, 3822.860784, 1727.316744, ..., 7458.153391,\n",
       "       3268.121865, 3834.648702])"
      ]
     },
     "execution_count": 100,
     "metadata": {},
     "output_type": "execute_result"
    }
   ],
   "source": [
    "y_train"
   ]
  },
  {
   "cell_type": "code",
   "execution_count": 102,
   "metadata": {},
   "outputs": [
    {
     "data": {
      "text/plain": [
       "0.3140512805502159"
      ]
     },
     "execution_count": 102,
     "metadata": {},
     "output_type": "execute_result"
    }
   ],
   "source": [
    "#model evaluation using r^2\n",
    "from sklearn.metrics import r2_score\n",
    "r2_score(y_test,y_pred)"
   ]
  },
  {
   "cell_type": "code",
   "execution_count": 106,
   "metadata": {},
   "outputs": [
    {
     "data": {
      "text/plain": [
       "7563.011367438009"
      ]
     },
     "execution_count": 106,
     "metadata": {},
     "output_type": "execute_result"
    }
   ],
   "source": [
    "from sklearn.metrics import mean_squared_error, mean_absolute_error\n",
    "y_pred_rmse = np.sqrt(mean_squared_error(y_test,y_pred))\n",
    "y_pred_rmse"
   ]
  },
  {
   "cell_type": "code",
   "execution_count": 107,
   "metadata": {},
   "outputs": [
    {
     "data": {
      "text/plain": [
       "5493.009368046124"
      ]
     },
     "execution_count": 107,
     "metadata": {},
     "output_type": "execute_result"
    }
   ],
   "source": [
    "y_pred_mae = mean_absolute_error(y_test,y_pred)\n",
    "y_pred_mae"
   ]
  },
  {
   "cell_type": "code",
   "execution_count": 104,
   "metadata": {},
   "outputs": [
    {
     "data": {
      "text/plain": [
       "Text(0.5, 1.0, 'Actual vs. Predicted')"
      ]
     },
     "execution_count": 104,
     "metadata": {},
     "output_type": "execute_result"
    },
    {
     "data": {
      "image/png": "[encoded data removed]",
      "text/plain": [
       "<Figure size 1080x720 with 1 Axes>"
      ]
     },
     "metadata": {
      "needs_background": "light"
     },
     "output_type": "display_data"
    }
   ],
   "source": [
    "plt.figure(figsize=(15,10))\n",
    "plt.scatter(y_test,y_pred)\n",
    "plt.xlabel('Actual Values')\n",
    "plt.ylabel('Predicted Values')\n",
    "plt.title('Actual vs. Predicted')"
   ]
  },
  {
   "cell_type": "code",
   "execution_count": null,
   "metadata": {},
   "outputs": [],
   "source": []
  }
 ],
 "metadata": {
  "kernelspec": {
   "display_name": "Python 3",
   "language": "python",
   "name": "python3"
  },
  "language_info": {
   "codemirror_mode": {
    "name": "ipython",
    "version": 3
   },
   "file_extension": ".py",
   "mimetype": "text/x-python",
   "name": "python",
   "nbconvert_exporter": "python",
   "pygments_lexer": "ipython3",
   "version": "3.7.3"
  }
 },
 "nbformat": 4,
 "nbformat_minor": 4
}
